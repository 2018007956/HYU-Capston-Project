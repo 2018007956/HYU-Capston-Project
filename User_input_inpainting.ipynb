{
 "cells": [
  {
   "cell_type": "code",
   "execution_count": null,
   "metadata": {},
   "outputs": [
    {
     "ename": "ModuleNotFoundError",
     "evalue": "No module named 'cv2'",
     "output_type": "error",
     "traceback": [
      "\u001b[0;31m---------------------------------------------------------------------------\u001b[0m",
      "\u001b[0;31mModuleNotFoundError\u001b[0m                       Traceback (most recent call last)",
      "\u001b[0;32m/tmp/ipykernel_1439742/2453989050.py\u001b[0m in \u001b[0;36m<module>\u001b[0;34m\u001b[0m\n\u001b[1;32m      1\u001b[0m \u001b[0;32mimport\u001b[0m \u001b[0msys\u001b[0m\u001b[0;34m\u001b[0m\u001b[0;34m\u001b[0m\u001b[0m\n\u001b[1;32m      2\u001b[0m \u001b[0;32mimport\u001b[0m \u001b[0mnumpy\u001b[0m \u001b[0;32mas\u001b[0m \u001b[0mnp\u001b[0m\u001b[0;34m\u001b[0m\u001b[0;34m\u001b[0m\u001b[0m\n\u001b[0;32m----> 3\u001b[0;31m \u001b[0;32mimport\u001b[0m \u001b[0mcv2\u001b[0m\u001b[0;34m\u001b[0m\u001b[0;34m\u001b[0m\u001b[0m\n\u001b[0m\u001b[1;32m      4\u001b[0m \u001b[0;32mimport\u001b[0m \u001b[0mmatplotlib\u001b[0m\u001b[0;34m.\u001b[0m\u001b[0mpyplot\u001b[0m \u001b[0;32mas\u001b[0m \u001b[0mplt\u001b[0m\u001b[0;34m\u001b[0m\u001b[0;34m\u001b[0m\u001b[0m\n",
      "\u001b[0;31mModuleNotFoundError\u001b[0m: No module named 'cv2'"
     ]
    }
   ],
   "source": [
    "import sys\n",
    "import numpy as np\n",
    "import cv2\n",
    "import matplotlib.pyplot as plt"
   ]
  },
  {
   "cell_type": "code",
   "execution_count": 5,
   "metadata": {},
   "outputs": [
    {
     "name": "stdout",
     "output_type": "stream",
     "text": [
      "Looking in indexes: https://pypi.org/simple, https://pypi.ngc.nvidia.com\n",
      "Collecting opencv-python\n",
      "\u001b[?25l  Downloading https://files.pythonhosted.org/packages/33/92/87e99adfaf9c847021ecfcd4bf2732c863752cf47c0c9ad349c8de260183/opencv-python-4.7.0.68.tar.gz (91.1MB)\n",
      "\u001b[K     |████████████████████████████████| 91.1MB 27.1MB/s eta 0:00:01     |█████████▋                      | 27.4MB 10.1MB/s eta 0:00:07\n",
      "\u001b[?25h  Installing build dependencies ... \u001b[?25ldone\n",
      "\u001b[?25h  Getting requirements to build wheel ... \u001b[?25ldone\n",
      "\u001b[?25h    Preparing wheel metadata ... \u001b[?25ldone\n",
      "\u001b[?25hRequirement already satisfied: numpy>=1.17.0; python_version >= \"3.7\" in /home/dilab/.pyenv/versions/3.7.5/lib/python3.7/site-packages (from opencv-python) (1.21.6)\n",
      "Building wheels for collected packages: opencv-python\n",
      "  Building wheel for opencv-python (PEP 517) ... \u001b[?25l/"
     ]
    }
   ],
   "source": [
    "!pip install opencv-python"
   ]
  },
  {
   "cell_type": "code",
   "execution_count": null,
   "metadata": {},
   "outputs": [
    {
     "name": "stdout",
     "output_type": "stream",
     "text": [
      "EVENT_LBUTTONDOWN: 673, 316\n",
      "EVENT_LBUTTONUP: 657, 384\n"
     ]
    }
   ],
   "source": [
    "# https://deep-learning-study.tistory.com/110\n",
    "oldx = oldy = -1 # 좌표 기본값 설정\n",
    "\n",
    "def on_mouse(event, x, y, flags, param):\n",
    "    # event는 마우스 동작 상수값, 클릭, 이동 등등\n",
    "    # x, y는 내가 띄운 창을 기준으로 좌측 상단점이 0,0이 됌\n",
    "    # flags는 마우스 이벤트가 발생할 때 키보드 또는 마우스 상태를 의미, Shif+마우스 등 설정가능\n",
    "    # param은 영상이룻도 있도 전달하고 싶은 데이타, 안쓰더라도 넣어줘야함\n",
    "    \n",
    "\n",
    "    global oldx, oldy # 밖에 있는 oldx, oldy 불러옴\n",
    "\n",
    "    if event == cv2.EVENT_LBUTTONDOWN: # 왼쪽이 눌러지면 실행\n",
    "        oldx, oldy = x, y # 마우스가 눌렀을 때 좌표 저장, 띄워진 영상에서의 좌측 상단 기준\n",
    "        print('EVENT_LBUTTONDOWN: %d, %d' % (x, y)) # 좌표 출력\n",
    "\n",
    "    elif event == cv2.EVENT_LBUTTONUP: # 마우스 뗏을때 발생\n",
    "        print('EVENT_LBUTTONUP: %d, %d' % (x, y)) # 좌표 출력\n",
    "\n",
    "    elif event == cv2.EVENT_MOUSEMOVE: # 마우스가 움직일 때 발생\n",
    "        if flags & cv2.EVENT_FLAG_LBUTTON: # ==를 쓰면 다른 키도 입력되었을 때 작동안하므로 &(and) 사용\n",
    "            # cv2.circle(img, (x, y), 5, (0, 255, 0), -1) # 단점이 빠르게 움직이면 끊김\n",
    "            # circle은 끊기므로 line 이용\n",
    "            # 마우스 클릭한 좌표에서 시작해서 마우스 좌표까지 그림\n",
    "            cv2.line(img, (oldx, oldy), (x, y), (0, 0, 255), 40, cv2.LINE_AA)\n",
    "            cv2.imshow('image', img)\n",
    "            oldx, oldy = x, y # 그림을 그리고 또 좌표 저장\n",
    "\n",
    "# 흰색 컬러 영상 생성\n",
    "# img = np.ones((480, 640, 3), dtype=np.uint8) * 255\n",
    "img = cv2.imread('./img.jpg')\n",
    "\n",
    "\n",
    "# 윈도우 창\n",
    "cv2.namedWindow('image')\n",
    "\n",
    "# 마우스 입력, namedWIndow or imshow가 실행되어 창이 떠있는 상태에서만 사용가능\n",
    "# 마우스 이벤트가 발생하면 on_mouse 함수 실행\n",
    "cv2.setMouseCallback('image', on_mouse, img)\n",
    "\n",
    "\n",
    "# 영상 출력\n",
    "cv2.imshow('image', img)\n",
    "cv2.waitKey()\n",
    "\n",
    "cv2.destroyAllWindows()"
   ]
  },
  {
   "cell_type": "code",
   "execution_count": 3,
   "metadata": {},
   "outputs": [],
   "source": [
    "def make_mask(img):\n",
    "    img = np.array(img)\n",
    "    mask = np.zeros((img.shape))\n",
    "    if np.where(img == [0,0,255]): #BGR\n",
    "        mask[np.where((img == [0,0,255]).all(axis=2))] = [1,1,1]\n",
    "    return mask"
   ]
  },
  {
   "cell_type": "code",
   "execution_count": 5,
   "metadata": {},
   "outputs": [
    {
     "data": {
      "text/plain": [
       "True"
      ]
     },
     "execution_count": 5,
     "metadata": {},
     "output_type": "execute_result"
    },
    {
     "data": {
      "image/png": "[encoded data removed]",
      "text/plain": [
       "<Figure size 432x288 with 1 Axes>"
      ]
     },
     "metadata": {
      "needs_background": "light"
     },
     "output_type": "display_data"
    }
   ],
   "source": [
    "mask = make_mask(img)\n",
    "plt.imshow(mask)\n",
    "\n",
    "\n",
    "cv2.imwrite('./lama/data_for_prediction/img.png', img)\n",
    "cv2.imwrite('./lama/data_for_prediction/img_mask.png', mask*255)"
   ]
  },
  {
   "attachments": {},
   "cell_type": "markdown",
   "metadata": {},
   "source": [
    "mask에서 구멍이 생기는 부분 hole filling (또는 노이즈 제거) 필요"
   ]
  }
 ],
 "metadata": {
  "kernelspec": {
   "display_name": "Python 3",
   "language": "python",
   "name": "python3"
  },
  "language_info": {
   "codemirror_mode": {
    "name": "ipython",
    "version": 3
   },
   "file_extension": ".py",
   "mimetype": "text/x-python",
   "name": "python",
   "nbconvert_exporter": "python",
   "pygments_lexer": "ipython3",
   "version": "3.7.5"
  },
  "orig_nbformat": 4,
  "vscode": {
   "interpreter": {
    "hash": "879c2b71caebb72a9024147055fae625a279fb9cc6a75c78cd358cf39326ff45"
   }
  }
 },
 "nbformat": 4,
 "nbformat_minor": 2
}
