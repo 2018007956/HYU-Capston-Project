{
 "cells": [
  {
   "cell_type": "markdown",
   "metadata": {
    "colab_type": "text",
    "id": "view-in-github"
   },
   "source": [
    "<a href=\"https://colab.research.google.com/github/2018007956/HYU-Capston-Project/blob/main/Inpainting.ipynb\" target=\"_parent\"><img src=\"https://colab.research.google.com/assets/colab-badge.svg\" alt=\"Open In Colab\"/></a>"
   ]
  },
  {
   "cell_type": "code",
   "execution_count": null,
   "metadata": {
    "colab": {
     "base_uri": "https://localhost:8080/"
    },
    "id": "8WsPtla6EwT6",
    "outputId": "ffbc6ab3-45e8-425f-ef9d-e6cc9087391a"
   },
   "outputs": [
    {
     "name": "stdout",
     "output_type": "stream",
     "text": [
      "Drive already mounted at /content/drive; to attempt to forcibly remount, call drive.mount(\"/content/drive\", force_remount=True).\n"
     ]
    }
   ],
   "source": [
    "from google.colab import drive\n",
    "drive.mount('/content/drive')"
   ]
  },
  {
   "cell_type": "markdown",
   "metadata": {
    "id": "XQftbFttetlV"
   },
   "source": [
    "# LaMa"
   ]
  },
  {
   "cell_type": "code",
   "execution_count": null,
   "metadata": {
    "colab": {
     "base_uri": "https://localhost:8080/"
    },
    "id": "s88txi8QXC3y",
    "outputId": "bb5bc68a-f06e-4db9-9aa4-d6ce9d193a81"
   },
   "outputs": [
    {
     "name": "stdout",
     "output_type": "stream",
     "text": [
      "/content/drive/MyDrive/2022_2proj\n"
     ]
    }
   ],
   "source": [
    "%cd /content/drive/MyDrive/2022_2proj"
   ]
  },
  {
   "cell_type": "code",
   "execution_count": 1,
   "metadata": {
    "colab": {
     "base_uri": "https://localhost:8080/"
    },
    "id": "iIa4ItMkCBFU",
    "outputId": "8fed3f33-4c8c-4d30-c0aa-c42d658c0053"
   },
   "outputs": [
    {
     "name": "stdout",
     "output_type": "stream",
     "text": [
      "c:\\Users\\LG\\Desktop\\github\\HYU-Capston-Project\\lama\n"
     ]
    }
   ],
   "source": [
    "# !git clone https://github.com/saic-mdal/lama.git\n",
    "\n",
    "%cd lama\n",
    "# !pip install -r requirements.txt "
   ]
  },
  {
   "cell_type": "code",
   "execution_count": 2,
   "metadata": {
    "colab": {
     "base_uri": "https://localhost:8080/"
    },
    "id": "IUtbbTldCBCi",
    "outputId": "f9833095-5cb4-4fe7-e066-adb7782748e0"
   },
   "outputs": [
    {
     "name": "stdout",
     "output_type": "stream",
     "text": [
      "Requirement already satisfied: wldhx.yadisk-direct in c:\\users\\lg\\anaconda3\\lib\\site-packages (0.0.6)\n",
      "Requirement already satisfied: requests in c:\\users\\lg\\anaconda3\\lib\\site-packages (from wldhx.yadisk-direct) (2.28.2)\n",
      "Requirement already satisfied: certifi>=2017.4.17 in c:\\users\\lg\\anaconda3\\lib\\site-packages (from requests->wldhx.yadisk-direct) (2020.6.20)\n",
      "Requirement already satisfied: idna<4,>=2.5 in c:\\users\\lg\\anaconda3\\lib\\site-packages (from requests->wldhx.yadisk-direct) (2.6)\n",
      "Requirement already satisfied: charset-normalizer<4,>=2 in c:\\users\\lg\\anaconda3\\lib\\site-packages (from requests->wldhx.yadisk-direct) (3.0.1)\n",
      "Requirement already satisfied: urllib3<1.27,>=1.21.1 in c:\\users\\lg\\anaconda3\\lib\\site-packages (from requests->wldhx.yadisk-direct) (1.22)\n"
     ]
    },
    {
     "name": "stderr",
     "output_type": "stream",
     "text": [
      "WARNING: You are using pip version 21.0.1; however, version 23.0.1 is available.\n",
      "You should consider upgrading via the 'c:\\users\\lg\\anaconda3\\python.exe -m pip install --upgrade pip' command.\n"
     ]
    },
    {
     "name": "stdout",
     "output_type": "stream",
     "text": [
      "<!doctype html><html prefix=\"og: http://ogp.me/ns#\"><meta http-equiv=\"X-UA-Compatible\" content=\"IE=edge\"><meta charset=\"utf-8\"><meta name=\"viewport\" content=\"width=device-width,initial-scale=1\"><title data-react-helmet=\"true\">Ой!</title><meta data-react-helmet=\"true\" property=\"og:title\" content=\"Яндекс\"><meta data-react-helmet=\"true\" property=\"og:description\" content=\"Найдётся всё\"><meta data-react-helmet=\"true\" property=\"og:image\" content=\"https://yastatic.net/s3/home-static/_/37/37a02b5dc7a51abac55d8a5b6c865f0e.png\"><link rel=\"stylesheet\" href=\"/captcha_smart.0bfc4d9561e7e6e94795.min.css?k=1666276736660\"><style>@media only screen and (min-width:651px){body{background-image:url('https://captcha-backgrounds.s3.yandex.net/static/default-background.jpg')}}.LogoLink{background-image:url('data:image/svg+xml;base64,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')}</style><div id=\"root\"><div class=\"Theme Theme_color_yandex-default Theme_root_default\"><div class=\"Container\"><div class=\"Spacer\" style=\"padding-bottom:40px\"><a href=\"https://www.ya.ru\" title=\"Yandex\" target=\"_blank\" class=\"Link Link_view_default LogoLink\"></a></div><form method=\"POST\" action=\"/checkcaptcha?key=dae085f4-d8ba522a-79f4d273-b185ae73_2/1677742621/fa0838b80343e2bf335007449e5c8c58_9f6cd61dfc812334007ff1bd03a10caf&mt=A92C86ACEC5735624D95F62AFFB16568CF26F51075B14DA0B38000D0DBB252382505&retpath=aHR0cHM6Ly9kaXNrLnlhbmRleC5ydS9kL291UDZsOFZKMEhwTVpnKT8%2C_9bc0d0c48b64fc048cba5cb832c98c3c&u=2310468c-adeffb1d-b1ab5b08-19540312&s=d219fa4b24cca37a8462fdb2b39671a7\"><div class=\"Spacer\" style=\"padding-bottom:16px\"><span class=\"Text Text_weight_medium Text_typography_headline-s\">Подтвердите, что запросы отправляли вы, а не робот</span></div><span class=\"Text Text_weight_regular Text_typography_body-long-m\">Нам очень жаль, но запросы с вашего устройства похожи на автоматические. <a href=\"https://yandex.ru/support/smart-captcha?unique_key=2310468c-adeffb1d-b1ab5b08-19540312\" target=\"_blank\" class=\"Link Link_view_default\">Почему это могло произойти?</a></span><div class=\"Spacer Spacer_auto-gap_bottom\" style=\"padding-top:40px;padding-bottom:40px\"><div class=\"CheckboxCaptcha\" data-testid=\"checkbox-captcha\"><div class=\"CheckboxCaptcha-Inner\"><div class=\"CheckboxCaptcha-Anchor\"><input type=\"submit\" class=\"CheckboxCaptcha-Button\" aria-checked=\"false\" aria-labelledby=\"smartcaptcha-status\" role=\"checkbox\"><div class=\"CheckboxCaptcha-Checkbox\" data-checked=\"false\"><svg class=\"SvgIcon\" width=\"24\" height=\"24\" viewBox=\"0 0 24 25\" fill=\"none\"><path d=\"M4 12.5L9.5 18.5L20 6.5\" stroke=\"#000\" stroke-width=\"3\" stroke-linecap=\"round\" stroke-linejoin=\"round\"></path></svg></div></div><div class=\"CheckboxCaptcha-Label\"><span class=\"Text Text_weight_regular Text_typography_control-xxl CheckboxCaptcha-LabelText\">Я не робот</span><span class=\"Text Text_color_control-secondary Text_weight_regular Text_typography_control-l CheckboxCaptcha-SecondaryText\">Нажмите, чтобы продолжить</span><span class=\"Text Text_color_ghost Text_weight_regular Text_typography_control-s CheckboxCaptcha-Links\"><a target=\"_blank\" href=\"https://cloud.yandex.ru/services/smartcaptcha\" aria-describedby=\"service-link-description\" class=\"Link Link_view_captcha\">Yandex SmartCaptcha</a>•<a target=\"_blank\" href=\"https://yandex.ru/legal/smartcaptcha_notice/\" aria-describedby=\"connect-link-description\" class=\"Link Link_view_captcha\">Обработка данных</a><div class=\"visuallyhidden\" id=\"service-link-description\">connect-link-description</div><div class=\"visuallyhidden\" id=\"privacy-link-description\">Сайт с информацией об обработке данных</div></span></div><div class=\"CheckboxCaptcha-Icon\"><svg width=\"41\" height=\"20\" viewBox=\"0 0 41 20\" fill=\"none\" class=\"CloudIcon\"><path d=\"M10.251 11.0479C10.7785 12.2034 10.9542 12.6053 10.9542 13.9932V15.8333H9.07031V12.7309L5.51562 5H7.48142L10.251 11.0479ZM12.5746 5L10.2698 10.2376H12.1852L14.4963 5H12.5746Z\" fill=\"#000\"></path><path fill-rule=\"evenodd\" clip-rule=\"evenodd\" d=\"M10 18.2292C14.5448 18.2292 18.2292 14.5448 18.2292 10C18.2292 5.45516 14.5448 1.77083 10 1.77083C5.45516 1.77083 1.77083 5.45516 1.77083 10C1.77083 14.5448 5.45516 18.2292 10 18.2292ZM10 20C15.5228 20 20 15.5228 20 10C20 4.47715 15.5228 0 10 0C4.47715 0 0 4.47715 0 10C0 15.5228 4.47715 20 10 20Z\" fill=\"#000\"></path><path fill-rule=\"evenodd\" clip-rule=\"evenodd\" d=\"M39.2333 10C39.2333 14.55 35.55 18.2333 31 18.2333C29.8094 18.2333 28.9202 17.7864 28.4755 17.2443C28.0308 16.7022 27.9057 15.8152 28.0588 14.5339L30.7088 14.0082C33.13 13.5647 34.4641 12.2176 34.9417 9.80288C35.0001 9.46485 35.0669 9.12682 35.1301 8.8064C35.156 8.67525 35.1813 8.54705 35.2052 8.42301C35.2774 8.03104 35.3471 7.65855 35.411 7.31691C35.4783 6.95699 35.5392 6.63132 35.5899 6.3532C35.861 4.78329 35.6407 3.62423 35.0309 2.81788C37.5398 4.22801 39.2333 6.91477 39.2333 10ZM31 1.76667C26.45 1.76667 22.7667 5.45 22.7667 10C22.7667 13.0852 24.4602 15.772 26.9691 17.1821C26.3593 16.3758 26.139 15.2167 26.4101 13.6468C26.4684 13.3273 26.538 12.9507 26.6158 12.5305C26.67 12.2378 26.7281 11.9239 26.7889 11.5934C26.8128 11.4694 26.8381 11.3412 26.864 11.21C26.9273 10.8896 26.994 10.5516 27.0524 10.2136C27.5136 7.78235 28.8477 6.43534 31.2688 5.99181L33.9412 5.46614C34.0943 4.18484 33.9692 3.29778 33.5245 2.75569C33.0798 2.2136 32.1906 1.76667 31 1.76667ZM41 10C41 15.5167 36.5167 20 31 20C25.4833 20 21 15.5167 21 10C21 4.48333 25.4833 0 31 0C36.5167 0 41 4.48333 41 10ZM33.6241 7.30597L31.6147 7.70022C29.9018 8.02876 29.1112 8.81726 28.7818 10.5257C28.7052 10.9076 28.6385 11.2698 28.5741 11.6199C28.5554 11.7215 28.5368 11.8222 28.5183 11.922C28.4689 12.1848 28.4195 12.4476 28.3701 12.694L30.363 12.2998C32.0759 11.9712 32.883 11.1827 33.2124 9.47434C33.2848 9.11359 33.3515 8.75192 33.4182 8.39024C33.485 8.02852 33.5517 7.6668 33.6241 7.30597Z\" fill=\"#000\"></path></svg></div><div class=\"CheckboxCaptcha-Alert\"></div><div id=\"smartcaptcha-status\" class=\"CheckboxCaptcha-Status visuallyhidden\">SmartCaptcha нужна проверка пользователя</div></div></div></div><span class=\"Text Text_color_ghost Text_weight_regular Text_typography_control-xs\">Если у вас возникли проблемы, пожалуйста, воспользуйтесь <a href=\"https://yandex.ru/support/smart-captcha?unique_key=2310468c-adeffb1d-b1ab5b08-19540312#help\" target=\"_blank\" class=\"Link Link_view_default\">формой обратной связи</a></span><input type=\"hidden\" name=\"rdata\"><input type=\"hidden\" name=\"aesKey\"><input type=\"hidden\" name=\"signKey\"></form></div></div></div> <script>window.__SSR_DATA__={url:\"/ru/checkbox\",reqId:\"\",uniqueKey:\"2310468c-adeffb1d-b1ab5b08-19540312\",invalid:\"no\",formAction:\"/checkcaptcha?key=dae085f4-d8ba522a-79f4d273-b185ae73_2/1677742621/fa0838b80343e2bf335007449e5c8c58_9f6cd61dfc812334007ff1bd03a10caf&mt=A92C86ACEC5735624D95F62AFFB16568CF26F51075B14DA0B38000D0DBB252382505&retpath=aHR0cHM6Ly9kaXNrLnlhbmRleC5ydS9kL291UDZsOFZKMEhwTVpnKT8%2C_9bc0d0c48b64fc048cba5cb832c98c3c&u=2310468c-adeffb1d-b1ab5b08-19540312&s=d219fa4b24cca37a8462fdb2b39671a7\",captchaKey:\"dae085f4-d8ba522a-79f4d273-b185ae73_2/1677742621/fa0838b80343e2bf335007449e5c8c58_9f6cd61dfc812334007ff1bd03a10caf\",imageSrc:\"\",voiceSrc:\"\",introSrc:\"\",aesKey:\"MtjnGP99Uzmk6OpqJ+747KwfQTZly2lqB4spc66FTeI=\",aesSign:\"1_1677742622_6855625301966063105_769cbe543cbea3605087d2b7de5d53cc\"}</script><script src=\"/captcha_smart_error.0bfc4d9561e7e6e94795.min.js?k=1666276736660\" crossorigin=\"\"></script><script src=\"https://yastatic.net/react/16.8.4/react-with-dom-and-polyfills.min.js\" crossorigin=\"\"></script><script src=\"/captcha_smart.0bfc4d9561e7e6e94795.min.js?k=1666276736660\" crossorigin=\"\"></script><script>!function(e,n,t,a,c){e.ym=e.ym||function(){(e.ym.a=e.ym.a||[]).push(arguments)},e.ym.l=+new Date,a=n.createElement(t),c=n.getElementsByTagName(t)[0],a.async=1,a.src=\"https://mc.yandex.ru/metrika/tag.js\",c.parentNode.insertBefore(a,c)}(window,document,\"script\"),ym(10630330,\"init\",{clickmap:!0,trackLinks:!0,accurateTrackBounce:!0,webvisor:!0,ut:\"noindex\",params:{req_id:\"\",unique_key:\"2310468c-adeffb1d-b1ab5b08-19540312\"}})</script><noscript><div><img src=\"https://mc.yandex.ru/watch/10630330?ut=noindex\" style=\"position:absolute;left:-9999px\" alt=\"\"></div></noscript><div><img src=\"https://adfstat.yandex.ru/captcha?req_id=&unique_key=2310468c-adeffb1d-b1ab5b08-19540312\" style=\"position:absolute;left:-9999px\" alt=\"\"></div>"
     ]
    },
    {
     "name": "stderr",
     "output_type": "stream",
     "text": [
      "  % Total    % Received % Xferd  Average Speed   Time    Time     Time  Current\n",
      "                                 Dload  Upload   Total   Spent    Left  Speed\n",
      "\n",
      "  0     0    0     0    0     0      0      0 --:--:-- --:--:-- --:--:--     0curl: (6) Could not resolve host: $(yadisk-direct\n",
      "  % Total    % Received % Xferd  Average Speed   Time    Time     Time  Current\n",
      "                                 Dload  Upload   Total   Spent    Left  Speed\n",
      "\n",
      "  0     0    0     0    0     0      0      0 --:--:-- --:--:-- --:--:--     0\n",
      "  0     0    0     0    0     0      0      0 --:--:-- --:--:-- --:--:--     0\n",
      "  0     0    0     0    0     0      0      0 --:--:--  0:00:01 --:--:--     0\n",
      "  0     0    0     0    0     0      0      0 --:--:--  0:00:02 --:--:--     0\n",
      "\n",
      "  0 10999    0     0    0     0      0      0 --:--:--  0:00:03 --:--:--     0\n",
      "100 10999  100 10999    0     0   3348      0  0:00:03  0:00:03 --:--:-- 10.4M\n"
     ]
    },
    {
     "name": "stdout",
     "output_type": "stream",
     "text": [
      "\n"
     ]
    },
    {
     "name": "stderr",
     "output_type": "stream",
     "text": [
      "'unzip'��(��) ���� �Ǵ� �ܺ� ����, ������ �� �ִ� ���α׷�, �Ǵ�\n",
      "��ġ ������ �ƴմϴ�.\n"
     ]
    }
   ],
   "source": [
    "# # Download pre-trained models\n",
    "# !pip3 install wldhx.yadisk-direct\n",
    "\n",
    "# # best model\n",
    "# !curl -L $(yadisk-direct https://disk.yandex.ru/d/ouP6l8VJ0HpMZg) -o big-lama.zip\n",
    "# !unzip big-lama.zip"
   ]
  },
  {
   "cell_type": "code",
   "execution_count": 26,
   "metadata": {},
   "outputs": [
    {
     "name": "stdout",
     "output_type": "stream",
     "text": [
      "Collecting git+https://github.com/facebookresearch/detectron2.git\n",
      "  Cloning https://github.com/facebookresearch/detectron2.git to c:\\users\\lg\\appdata\\local\\temp\\pip-req-build-7toqhb5d\n",
      "  Resolved https://github.com/facebookresearch/detectron2.git to commit 80e2673da161f57afe37ef769836a61976108ef1\n",
      "  Preparing metadata (setup.py): started\n",
      "  Preparing metadata (setup.py): finished with status 'done'"
     ]
    },
    {
     "name": "stderr",
     "output_type": "stream",
     "text": [
      "  Running command git clone --filter=blob:none --quiet https://github.com/facebookresearch/detectron2.git 'C:\\Users\\LG\\AppData\\Local\\Temp\\pip-req-build-7toqhb5d'\n",
      "  error: subprocess-exited-with-error\n",
      "  \n",
      "  × python setup.py bdist_wheel did not run successfully.\n",
      "  │ exit code: 1\n",
      "  ╰─> [370 lines of output]\n",
      "      running bdist_wheel\n",
      "      c:\\Users\\LG\\anaconda3\\lib\\site-packages\\torch\\utils\\cpp_extension.py:476: UserWarning: Attempted to use ninja as the BuildExtension backend but we could not find ninja.. Falling back to using the slow distutils backend.\n",
      "        warnings.warn(msg.format('we could not find ninja.'))\n",
      "      running build\n",
      "      running build_py\n",
      "      creating build\n",
      "      creating build\\lib.win-amd64-3.8"
     ]
    },
    {
     "name": "stdout",
     "output_type": "stream",
     "text": [
      "\n",
      "Requirement already satisfied: Pillow>=7.1 in c:\\users\\lg\\anaconda3\\lib\\site-packages (from detectron2==0.6) (7.2.0)\n",
      "Requirement already satisfied: matplotlib in c:\\users\\lg\\anaconda3\\lib\\site-packages (from detectron2==0.6) (3.2.2)\n",
      "Collecting pycocotools>=2.0.2\n",
      "  Using cached pycocotools-2.0.6.tar.gz (24 kB)\n",
      "  Installing build dependencies: started\n",
      "  Installing build dependencies: finished with status 'done'\n",
      "  Getting requirements to build wheel: started\n",
      "  Getting requirements to build wheel: finished with status 'done'\n",
      "  Preparing metadata (pyproject.toml): started\n",
      "  Preparing metadata (pyproject.toml): finished with status 'done'\n",
      "Requirement already satisfied: termcolor>=1.1 in c:\\users\\lg\\anaconda3\\lib\\site-packages (from detectron2==0.6) (1.1.0)\n",
      "Collecting yacs>=0.1.8\n",
      "  Using cached yacs-0.1.8-py3-none-any.whl (14 kB)\n",
      "Requirement already satisfied: tabulate in c:\\users\\lg\\anaconda3\\lib\\site-packages (from detectron2==0.6) (0.9.0)\n",
      "Requirement already satisfied: cloudpickle in c:\\users\\lg\\anaconda3\\lib\\site-packages (from detectron2==0.6) (1.5.0)\n",
      "Requirement already satisfied: tqdm>4.29.0 in c:\\users\\lg\\anaconda3\\lib\\site-packages (from detectron2==0.6) (4.47.0)\n",
      "Requirement already satisfied: tensorboard in c:\\users\\lg\\anaconda3\\lib\\site-packages (from detectron2==0.6) (2.3.0)\n",
      "Collecting fvcore<0.1.6,>=0.1.5\n",
      "  Using cached fvcore-0.1.5.post20221221-py3-none-any.whl\n",
      "Collecting iopath<0.1.10,>=0.1.7\n",
      "  Using cached iopath-0.1.9-py3-none-any.whl (27 kB)\n",
      "Requirement already satisfied: omegaconf>=2.1 in c:\\users\\lg\\anaconda3\\lib\\site-packages (from detectron2==0.6) (2.3.0)\n",
      "Requirement already satisfied: hydra-core>=1.1 in c:\\users\\lg\\anaconda3\\lib\\site-packages (from detectron2==0.6) (1.3.2)\n",
      "Collecting black\n",
      "  Using cached black-23.1.0-cp38-cp38-win_amd64.whl (1.2 MB)\n",
      "Requirement already satisfied: packaging in c:\\users\\lg\\anaconda3\\lib\\site-packages (from detectron2==0.6) (20.4)\n",
      "Requirement already satisfied: pyyaml>=5.1 in c:\\users\\lg\\anaconda3\\lib\\site-packages (from fvcore<0.1.6,>=0.1.5->detectron2==0.6) (5.3.1)\n",
      "Requirement already satisfied: numpy in c:\\users\\lg\\anaconda3\\lib\\site-packages (from fvcore<0.1.6,>=0.1.5->detectron2==0.6) (1.18.5)\n",
      "Requirement already satisfied: antlr4-python3-runtime==4.9.* in c:\\users\\lg\\anaconda3\\lib\\site-packages (from hydra-core>=1.1->detectron2==0.6) (4.9.3)\n",
      "Requirement already satisfied: importlib-resources in c:\\users\\lg\\anaconda3\\lib\\site-packages (from hydra-core>=1.1->detectron2==0.6) (5.12.0)\n",
      "Collecting portalocker\n",
      "  Using cached portalocker-2.7.0-py2.py3-none-any.whl (15 kB)\n",
      "Requirement already satisfied: cycler>=0.10 in c:\\users\\lg\\anaconda3\\lib\\site-packages (from matplotlib->detectron2==0.6) (0.10.0)\n",
      "Requirement already satisfied: pyparsing!=2.0.4,!=2.1.2,!=2.1.6,>=2.0.1 in c:\\users\\lg\\anaconda3\\lib\\site-packages (from matplotlib->detectron2==0.6) (2.4.7)\n",
      "Requirement already satisfied: kiwisolver>=1.0.1 in c:\\users\\lg\\anaconda3\\lib\\site-packages (from matplotlib->detectron2==0.6) (1.2.0)\n",
      "Requirement already satisfied: python-dateutil>=2.1 in c:\\users\\lg\\anaconda3\\lib\\site-packages (from matplotlib->detectron2==0.6) (2.8.1)\n",
      "Collecting pathspec>=0.9.0\n",
      "  Using cached pathspec-0.11.0-py3-none-any.whl (29 kB)\n",
      "Collecting click>=8.0.0\n",
      "  Using cached click-8.1.3-py3-none-any.whl (96 kB)\n",
      "Collecting mypy-extensions>=0.4.3\n",
      "  Using cached mypy_extensions-1.0.0-py3-none-any.whl (4.7 kB)\n",
      "Collecting tomli>=1.1.0\n",
      "  Using cached tomli-2.0.1-py3-none-any.whl (12 kB)\n",
      "Collecting packaging\n",
      "  Using cached packaging-23.0-py3-none-any.whl (42 kB)\n",
      "Requirement already satisfied: typing-extensions>=3.10.0.0 in c:\\users\\lg\\anaconda3\\lib\\site-packages (from black->detectron2==0.6) (4.5.0)\n",
      "Collecting platformdirs>=2\n",
      "  Using cached platformdirs-3.0.0-py3-none-any.whl (14 kB)\n",
      "Requirement already satisfied: setuptools>=41.0.0 in c:\\users\\lg\\anaconda3\\lib\\site-packages (from tensorboard->detectron2==0.6) (49.2.0.post20200714)\n",
      "Requirement already satisfied: grpcio>=1.24.3 in c:\\users\\lg\\anaconda3\\lib\\site-packages (from tensorboard->detectron2==0.6) (1.33.2)\n",
      "Requirement already satisfied: tensorboard-plugin-wit>=1.6.0 in c:\\users\\lg\\anaconda3\\lib\\site-packages (from tensorboard->detectron2==0.6) (1.7.0)\n",
      "Requirement already satisfied: six>=1.10.0 in c:\\users\\lg\\appdata\\roaming\\python\\python38\\site-packages (from tensorboard->detectron2==0.6) (1.15.0)\n",
      "Requirement already satisfied: wheel>=0.26 in c:\\users\\lg\\anaconda3\\lib\\site-packages (from tensorboard->detectron2==0.6) (0.34.2)\n",
      "Requirement already satisfied: google-auth-oauthlib<0.5,>=0.4.1 in c:\\users\\lg\\anaconda3\\lib\\site-packages (from tensorboard->detectron2==0.6) (0.4.2)\n",
      "Requirement already satisfied: werkzeug>=0.11.15 in c:\\users\\lg\\anaconda3\\lib\\site-packages (from tensorboard->detectron2==0.6) (1.0.1)\n",
      "Requirement already satisfied: google-auth<2,>=1.6.3 in c:\\users\\lg\\anaconda3\\lib\\site-packages (from tensorboard->detectron2==0.6) (1.23.0)\n",
      "Requirement already satisfied: markdown>=2.6.8 in c:\\users\\lg\\anaconda3\\lib\\site-packages (from tensorboard->detectron2==0.6) (3.3.3)\n",
      "Requirement already satisfied: requests<3,>=2.21.0 in c:\\users\\lg\\anaconda3\\lib\\site-packages (from tensorboard->detectron2==0.6) (2.28.2)\n",
      "Requirement already satisfied: absl-py>=0.4 in c:\\users\\lg\\anaconda3\\lib\\site-packages (from tensorboard->detectron2==0.6) (0.11.0)\n",
      "Requirement already satisfied: protobuf>=3.6.0 in c:\\users\\lg\\anaconda3\\lib\\site-packages (from tensorboard->detectron2==0.6) (3.13.0)\n",
      "Requirement already satisfied: colorama in c:\\users\\lg\\appdata\\roaming\\python\\python38\\site-packages (from click>=8.0.0->black->detectron2==0.6) (0.4.3)\n",
      "Requirement already satisfied: pyasn1-modules>=0.2.1 in c:\\users\\lg\\anaconda3\\lib\\site-packages (from google-auth<2,>=1.6.3->tensorboard->detectron2==0.6) (0.2.8)\n",
      "Requirement already satisfied: cachetools<5.0,>=2.0.0 in c:\\users\\lg\\anaconda3\\lib\\site-packages (from google-auth<2,>=1.6.3->tensorboard->detectron2==0.6) (4.1.1)\n",
      "Requirement already satisfied: rsa<5,>=3.1.4 in c:\\users\\lg\\anaconda3\\lib\\site-packages (from google-auth<2,>=1.6.3->tensorboard->detectron2==0.6) (4.6)\n",
      "Requirement already satisfied: requests-oauthlib>=0.7.0 in c:\\users\\lg\\anaconda3\\lib\\site-packages (from google-auth-oauthlib<0.5,>=0.4.1->tensorboard->detectron2==0.6) (1.3.0)\n",
      "Requirement already satisfied: charset-normalizer<4,>=2 in c:\\users\\lg\\anaconda3\\lib\\site-packages (from requests<3,>=2.21.0->tensorboard->detectron2==0.6) (3.0.1)\n",
      "Requirement already satisfied: idna<4,>=2.5 in c:\\users\\lg\\anaconda3\\lib\\site-packages (from requests<3,>=2.21.0->tensorboard->detectron2==0.6) (2.6)\n",
      "Requirement already satisfied: urllib3<1.27,>=1.21.1 in c:\\users\\lg\\anaconda3\\lib\\site-packages (from requests<3,>=2.21.0->tensorboard->detectron2==0.6) (1.22)\n",
      "Requirement already satisfied: certifi>=2017.4.17 in c:\\users\\lg\\anaconda3\\lib\\site-packages (from requests<3,>=2.21.0->tensorboard->detectron2==0.6) (2020.6.20)\n",
      "Requirement already satisfied: zipp>=3.1.0 in c:\\users\\lg\\anaconda3\\lib\\site-packages (from importlib-resources->hydra-core>=1.1->detectron2==0.6) (3.1.0)\n",
      "Requirement already satisfied: pywin32>=226 in c:\\users\\lg\\anaconda3\\lib\\site-packages (from portalocker->iopath<0.1.10,>=0.1.7->detectron2==0.6) (227)\n",
      "Requirement already satisfied: pyasn1<0.5.0,>=0.4.6 in c:\\users\\lg\\anaconda3\\lib\\site-packages (from pyasn1-modules>=0.2.1->google-auth<2,>=1.6.3->tensorboard->detectron2==0.6) (0.4.8)\n",
      "Requirement already satisfied: oauthlib>=3.0.0 in c:\\users\\lg\\anaconda3\\lib\\site-packages (from requests-oauthlib>=0.7.0->google-auth-oauthlib<0.5,>=0.4.1->tensorboard->detectron2==0.6) (3.1.0)\n",
      "Building wheels for collected packages: detectron2, pycocotools\n",
      "  Building wheel for detectron2 (setup.py): started\n",
      "  Building wheel for detectron2 (setup.py): finished with status 'error'\n",
      "  Running setup.py clean for detectron2\n"
     ]
    },
    {
     "name": "stderr",
     "output_type": "stream",
     "text": [
      "\n",
      "      creating build\\lib.win-amd64-3.8\\detectron2\n",
      "      copying detectron2\\__init__.py -> build\\lib.win-amd64-3.8\\detectron2\n",
      "      creating build\\lib.win-amd64-3.8\\tools\n",
      "      copying tools\\analyze_model.py -> build\\lib.win-amd64-3.8\\tools\n",
      "      copying tools\\benchmark.py -> build\\lib.win-amd64-3.8\\tools\n",
      "      copying tools\\convert-torchvision-to-d2.py -> build\\lib.win-amd64-3.8\\tools\n",
      "      copying tools\\lazyconfig_train_net.py -> build\\lib.win-amd64-3.8\\tools\n",
      "      copying tools\\lightning_train_net.py -> build\\lib.win-amd64-3.8\\tools\n",
      "      copying tools\\plain_train_net.py -> build\\lib.win-amd64-3.8\\tools\n",
      "      copying tools\\train_net.py -> build\\lib.win-amd64-3.8\\tools\n",
      "      copying tools\\visualize_data.py -> build\\lib.win-amd64-3.8\\tools\n",
      "      copying tools\\visualize_json_results.py -> build\\lib.win-amd64-3.8\\tools\n",
      "      copying tools\\__init__.py -> build\\lib.win-amd64-3.8\\tools\n",
      "      creating build\\lib.win-amd64-3.8\\detectron2\\checkpoint\n",
      "      copying detectron2\\checkpoint\\c2_model_loading.py -> build\\lib.win-amd64-3.8\\detectron2\\checkpoint\n",
      "      copying detectron2\\checkpoint\\catalog.py -> build\\lib.win-amd64-3.8\\detectron2\\checkpoint\n",
      "      copying detectron2\\checkpoint\\detection_checkpoint.py -> build\\lib.win-amd64-3.8\\detectron2\\checkpoint\n",
      "      copying detectron2\\checkpoint\\__init__.py -> build\\lib.win-amd64-3.8\\detectron2\\checkpoint\n",
      "      creating build\\lib.win-amd64-3.8\\detectron2\\config\n",
      "      copying detectron2\\config\\compat.py -> build\\lib.win-amd64-3.8\\detectron2\\config\n",
      "      copying detectron2\\config\\config.py -> build\\lib.win-amd64-3.8\\detectron2\\config\n",
      "      copying detectron2\\config\\defaults.py -> build\\lib.win-amd64-3.8\\detectron2\\config\n",
      "      copying detectron2\\config\\instantiate.py -> build\\lib.win-amd64-3.8\\detectron2\\config\n",
      "      copying detectron2\\config\\lazy.py -> build\\lib.win-amd64-3.8\\detectron2\\config\n",
      "      copying detectron2\\config\\__init__.py -> build\\lib.win-amd64-3.8\\detectron2\\config\n",
      "      creating build\\lib.win-amd64-3.8\\detectron2\\data\n",
      "      copying detectron2\\data\\benchmark.py -> build\\lib.win-amd64-3.8\\detectron2\\data\n",
      "      copying detectron2\\data\\build.py -> build\\lib.win-amd64-3.8\\detectron2\\data\n",
      "      copying detectron2\\data\\catalog.py -> build\\lib.win-amd64-3.8\\detectron2\\data\n",
      "      copying detectron2\\data\\common.py -> build\\lib.win-amd64-3.8\\detectron2\\data\n",
      "      copying detectron2\\data\\dataset_mapper.py -> build\\lib.win-amd64-3.8\\detectron2\\data\n",
      "      copying detectron2\\data\\detection_utils.py -> build\\lib.win-amd64-3.8\\detectron2\\data\n",
      "      copying detectron2\\data\\__init__.py -> build\\lib.win-amd64-3.8\\detectron2\\data\n",
      "      creating build\\lib.win-amd64-3.8\\detectron2\\engine\n",
      "      copying detectron2\\engine\\defaults.py -> build\\lib.win-amd64-3.8\\detectron2\\engine\n",
      "      copying detectron2\\engine\\hooks.py -> build\\lib.win-amd64-3.8\\detectron2\\engine\n",
      "      copying detectron2\\engine\\launch.py -> build\\lib.win-amd64-3.8\\detectron2\\engine\n",
      "      copying detectron2\\engine\\train_loop.py -> build\\lib.win-amd64-3.8\\detectron2\\engine\n",
      "      copying detectron2\\engine\\__init__.py -> build\\lib.win-amd64-3.8\\detectron2\\engine\n",
      "      creating build\\lib.win-amd64-3.8\\detectron2\\evaluation\n",
      "      copying detectron2\\evaluation\\cityscapes_evaluation.py -> build\\lib.win-amd64-3.8\\detectron2\\evaluation\n",
      "      copying detectron2\\evaluation\\coco_evaluation.py -> build\\lib.win-amd64-3.8\\detectron2\\evaluation\n",
      "      copying detectron2\\evaluation\\evaluator.py -> build\\lib.win-amd64-3.8\\detectron2\\evaluation\n",
      "      copying detectron2\\evaluation\\fast_eval_api.py -> build\\lib.win-amd64-3.8\\detectron2\\evaluation\n",
      "      copying detectron2\\evaluation\\lvis_evaluation.py -> build\\lib.win-amd64-3.8\\detectron2\\evaluation\n",
      "      copying detectron2\\evaluation\\panoptic_evaluation.py -> build\\lib.win-amd64-3.8\\detectron2\\evaluation\n",
      "      copying detectron2\\evaluation\\pascal_voc_evaluation.py -> build\\lib.win-amd64-3.8\\detectron2\\evaluation\n",
      "      copying detectron2\\evaluation\\rotated_coco_evaluation.py -> build\\lib.win-amd64-3.8\\detectron2\\evaluation\n",
      "      copying detectron2\\evaluation\\sem_seg_evaluation.py -> build\\lib.win-amd64-3.8\\detectron2\\evaluation\n",
      "      copying detectron2\\evaluation\\testing.py -> build\\lib.win-amd64-3.8\\detectron2\\evaluation\n",
      "      copying detectron2\\evaluation\\__init__.py -> build\\lib.win-amd64-3.8\\detectron2\\evaluation\n",
      "      creating build\\lib.win-amd64-3.8\\detectron2\\export\n",
      "      copying detectron2\\export\\api.py -> build\\lib.win-amd64-3.8\\detectron2\\export\n",
      "      copying detectron2\\export\\c10.py -> build\\lib.win-amd64-3.8\\detectron2\\export\n",
      "      copying detectron2\\export\\caffe2_export.py -> build\\lib.win-amd64-3.8\\detectron2\\export\n",
      "      copying detectron2\\export\\caffe2_inference.py -> build\\lib.win-amd64-3.8\\detectron2\\export\n",
      "      copying detectron2\\export\\caffe2_modeling.py -> build\\lib.win-amd64-3.8\\detectron2\\export\n",
      "      copying detectron2\\export\\caffe2_patch.py -> build\\lib.win-amd64-3.8\\detectron2\\export\n",
      "      copying detectron2\\export\\flatten.py -> build\\lib.win-amd64-3.8\\detectron2\\export\n",
      "      copying detectron2\\export\\shared.py -> build\\lib.win-amd64-3.8\\detectron2\\export\n",
      "      copying detectron2\\export\\torchscript.py -> build\\lib.win-amd64-3.8\\detectron2\\export\n",
      "      copying detectron2\\export\\torchscript_patch.py -> build\\lib.win-amd64-3.8\\detectron2\\export\n",
      "      copying detectron2\\export\\__init__.py -> build\\lib.win-amd64-3.8\\detectron2\\export\n",
      "      creating build\\lib.win-amd64-3.8\\detectron2\\layers\n",
      "      copying detectron2\\layers\\aspp.py -> build\\lib.win-amd64-3.8\\detectron2\\layers\n",
      "      copying detectron2\\layers\\batch_norm.py -> build\\lib.win-amd64-3.8\\detectron2\\layers\n",
      "      copying detectron2\\layers\\blocks.py -> build\\lib.win-amd64-3.8\\detectron2\\layers\n",
      "      copying detectron2\\layers\\deform_conv.py -> build\\lib.win-amd64-3.8\\detectron2\\layers\n",
      "      copying detectron2\\layers\\losses.py -> build\\lib.win-amd64-3.8\\detectron2\\layers\n",
      "      copying detectron2\\layers\\mask_ops.py -> build\\lib.win-amd64-3.8\\detectron2\\layers\n",
      "      copying detectron2\\layers\\nms.py -> build\\lib.win-amd64-3.8\\detectron2\\layers\n",
      "      copying detectron2\\layers\\roi_align.py -> build\\lib.win-amd64-3.8\\detectron2\\layers\n",
      "      copying detectron2\\layers\\roi_align_rotated.py -> build\\lib.win-amd64-3.8\\detectron2\\layers\n",
      "      copying detectron2\\layers\\rotated_boxes.py -> build\\lib.win-amd64-3.8\\detectron2\\layers\n",
      "      copying detectron2\\layers\\shape_spec.py -> build\\lib.win-amd64-3.8\\detectron2\\layers\n",
      "      copying detectron2\\layers\\wrappers.py -> build\\lib.win-amd64-3.8\\detectron2\\layers\n",
      "      copying detectron2\\layers\\__init__.py -> build\\lib.win-amd64-3.8\\detectron2\\layers\n",
      "      creating build\\lib.win-amd64-3.8\\detectron2\\modeling\n"
     ]
    },
    {
     "name": "stdout",
     "output_type": "stream",
     "text": [
      "  Building wheel for pycocotools (pyproject.toml): started\n",
      "  Building wheel for pycocotools (pyproject.toml): finished with status 'error'\n",
      "Failed to build detectron2 pycocotools\n"
     ]
    },
    {
     "name": "stderr",
     "output_type": "stream",
     "text": [
      "      copying detectron2\\modeling\\anchor_generator.py -> build\\lib.win-amd64-3.8\\detectron2\\modeling\n",
      "      copying detectron2\\modeling\\box_regression.py -> build\\lib.win-amd64-3.8\\detectron2\\modeling\n",
      "      copying detectron2\\modeling\\matcher.py -> build\\lib.win-amd64-3.8\\detectron2\\modeling\n",
      "      copying detectron2\\modeling\\mmdet_wrapper.py -> build\\lib.win-amd64-3.8\\detectron2\\modeling\n",
      "      copying detectron2\\modeling\\poolers.py -> build\\lib.win-amd64-3.8\\detectron2\\modeling\n",
      "      copying detectron2\\modeling\\postprocessing.py -> build\\lib.win-amd64-3.8\\detectron2\\modeling\n",
      "      copying detectron2\\modeling\\sampling.py -> build\\lib.win-amd64-3.8\\detectron2\\modeling\n",
      "      copying detectron2\\modeling\\test_time_augmentation.py -> build\\lib.win-amd64-3.8\\detectron2\\modeling\n",
      "      copying detectron2\\modeling\\__init__.py -> build\\lib.win-amd64-3.8\\detectron2\\modeling\n",
      "      creating build\\lib.win-amd64-3.8\\detectron2\\model_zoo\n",
      "      copying detectron2\\model_zoo\\model_zoo.py -> build\\lib.win-amd64-3.8\\detectron2\\model_zoo\n",
      "      copying detectron2\\model_zoo\\__init__.py -> build\\lib.win-amd64-3.8\\detectron2\\model_zoo\n",
      "      creating build\\lib.win-amd64-3.8\\detectron2\\projects\n",
      "      copying detectron2\\projects\\__init__.py -> build\\lib.win-amd64-3.8\\detectron2\\projects\n",
      "      creating build\\lib.win-amd64-3.8\\detectron2\\solver\n",
      "      copying detectron2\\solver\\build.py -> build\\lib.win-amd64-3.8\\detectron2\\solver\n",
      "      copying detectron2\\solver\\lr_scheduler.py -> build\\lib.win-amd64-3.8\\detectron2\\solver\n",
      "      copying detectron2\\solver\\__init__.py -> build\\lib.win-amd64-3.8\\detectron2\\solver\n",
      "      creating build\\lib.win-amd64-3.8\\detectron2\\structures\n",
      "      copying detectron2\\structures\\boxes.py -> build\\lib.win-amd64-3.8\\detectron2\\structures\n",
      "      copying detectron2\\structures\\image_list.py -> build\\lib.win-amd64-3.8\\detectron2\\structures\n",
      "      copying detectron2\\structures\\instances.py -> build\\lib.win-amd64-3.8\\detectron2\\structures\n",
      "      copying detectron2\\structures\\keypoints.py -> build\\lib.win-amd64-3.8\\detectron2\\structures\n",
      "      copying detectron2\\structures\\masks.py -> build\\lib.win-amd64-3.8\\detectron2\\structures\n",
      "      copying detectron2\\structures\\rotated_boxes.py -> build\\lib.win-amd64-3.8\\detectron2\\structures\n",
      "      copying detectron2\\structures\\__init__.py -> build\\lib.win-amd64-3.8\\detectron2\\structures\n",
      "      creating build\\lib.win-amd64-3.8\\detectron2\\tracking\n",
      "      copying detectron2\\tracking\\base_tracker.py -> build\\lib.win-amd64-3.8\\detectron2\\tracking\n",
      "      copying detectron2\\tracking\\bbox_iou_tracker.py -> build\\lib.win-amd64-3.8\\detectron2\\tracking\n",
      "      copying detectron2\\tracking\\hungarian_tracker.py -> build\\lib.win-amd64-3.8\\detectron2\\tracking\n",
      "      copying detectron2\\tracking\\iou_weighted_hungarian_bbox_iou_tracker.py -> build\\lib.win-amd64-3.8\\detectron2\\tracking\n",
      "      copying detectron2\\tracking\\utils.py -> build\\lib.win-amd64-3.8\\detectron2\\tracking\n",
      "      copying detectron2\\tracking\\vanilla_hungarian_bbox_iou_tracker.py -> build\\lib.win-amd64-3.8\\detectron2\\tracking\n",
      "      copying detectron2\\tracking\\__init__.py -> build\\lib.win-amd64-3.8\\detectron2\\tracking\n",
      "      creating build\\lib.win-amd64-3.8\\detectron2\\utils\n",
      "      copying detectron2\\utils\\analysis.py -> build\\lib.win-amd64-3.8\\detectron2\\utils\n",
      "      copying detectron2\\utils\\collect_env.py -> build\\lib.win-amd64-3.8\\detectron2\\utils\n",
      "      copying detectron2\\utils\\colormap.py -> build\\lib.win-amd64-3.8\\detectron2\\utils\n",
      "      copying detectron2\\utils\\comm.py -> build\\lib.win-amd64-3.8\\detectron2\\utils\n",
      "      copying detectron2\\utils\\develop.py -> build\\lib.win-amd64-3.8\\detectron2\\utils\n",
      "      copying detectron2\\utils\\env.py -> build\\lib.win-amd64-3.8\\detectron2\\utils\n",
      "      copying detectron2\\utils\\events.py -> build\\lib.win-amd64-3.8\\detectron2\\utils\n",
      "      copying detectron2\\utils\\file_io.py -> build\\lib.win-amd64-3.8\\detectron2\\utils\n",
      "      copying detectron2\\utils\\logger.py -> build\\lib.win-amd64-3.8\\detectron2\\utils\n",
      "      copying detectron2\\utils\\memory.py -> build\\lib.win-amd64-3.8\\detectron2\\utils\n",
      "      copying detectron2\\utils\\registry.py -> build\\lib.win-amd64-3.8\\detectron2\\utils\n",
      "      copying detectron2\\utils\\serialize.py -> build\\lib.win-amd64-3.8\\detectron2\\utils\n",
      "      copying detectron2\\utils\\testing.py -> build\\lib.win-amd64-3.8\\detectron2\\utils\n",
      "      copying detectron2\\utils\\tracing.py -> build\\lib.win-amd64-3.8\\detectron2\\utils\n",
      "      copying detectron2\\utils\\video_visualizer.py -> build\\lib.win-amd64-3.8\\detectron2\\utils\n",
      "      copying detectron2\\utils\\visualizer.py -> build\\lib.win-amd64-3.8\\detectron2\\utils\n",
      "      copying detectron2\\utils\\__init__.py -> build\\lib.win-amd64-3.8\\detectron2\\utils\n",
      "      creating build\\lib.win-amd64-3.8\\detectron2\\data\\datasets\n",
      "      copying detectron2\\data\\datasets\\builtin.py -> build\\lib.win-amd64-3.8\\detectron2\\data\\datasets\n",
      "      copying detectron2\\data\\datasets\\builtin_meta.py -> build\\lib.win-amd64-3.8\\detectron2\\data\\datasets\n",
      "      copying detectron2\\data\\datasets\\cityscapes.py -> build\\lib.win-amd64-3.8\\detectron2\\data\\datasets\n",
      "      copying detectron2\\data\\datasets\\cityscapes_panoptic.py -> build\\lib.win-amd64-3.8\\detectron2\\data\\datasets\n",
      "      copying detectron2\\data\\datasets\\coco.py -> build\\lib.win-amd64-3.8\\detectron2\\data\\datasets\n",
      "      copying detectron2\\data\\datasets\\coco_panoptic.py -> build\\lib.win-amd64-3.8\\detectron2\\data\\datasets\n",
      "      copying detectron2\\data\\datasets\\lvis.py -> build\\lib.win-amd64-3.8\\detectron2\\data\\datasets\n",
      "      copying detectron2\\data\\datasets\\lvis_v0_5_categories.py -> build\\lib.win-amd64-3.8\\detectron2\\data\\datasets\n",
      "      copying detectron2\\data\\datasets\\lvis_v1_categories.py -> build\\lib.win-amd64-3.8\\detectron2\\data\\datasets\n",
      "      copying detectron2\\data\\datasets\\lvis_v1_category_image_count.py -> build\\lib.win-amd64-3.8\\detectron2\\data\\datasets\n",
      "      copying detectron2\\data\\datasets\\pascal_voc.py -> build\\lib.win-amd64-3.8\\detectron2\\data\\datasets\n",
      "      copying detectron2\\data\\datasets\\register_coco.py -> build\\lib.win-amd64-3.8\\detectron2\\data\\datasets\n",
      "      copying detectron2\\data\\datasets\\__init__.py -> build\\lib.win-amd64-3.8\\detectron2\\data\\datasets\n",
      "      creating build\\lib.win-amd64-3.8\\detectron2\\data\\samplers\n",
      "      copying detectron2\\data\\samplers\\distributed_sampler.py -> build\\lib.win-amd64-3.8\\detectron2\\data\\samplers\n",
      "      copying detectron2\\data\\samplers\\grouped_batch_sampler.py -> build\\lib.win-amd64-3.8\\detectron2\\data\\samplers\n",
      "      copying detectron2\\data\\samplers\\__init__.py -> build\\lib.win-amd64-3.8\\detectron2\\data\\samplers\n",
      "      creating build\\lib.win-amd64-3.8\\detectron2\\data\\transforms\n",
      "      copying detectron2\\data\\transforms\\augmentation.py -> build\\lib.win-amd64-3.8\\detectron2\\data\\transforms\n",
      "      copying detectron2\\data\\transforms\\augmentation_impl.py -> build\\lib.win-amd64-3.8\\detectron2\\data\\transforms\n",
      "      copying detectron2\\data\\transforms\\transform.py -> build\\lib.win-amd64-3.8\\detectron2\\data\\transforms\n",
      "      copying detectron2\\data\\transforms\\__init__.py -> build\\lib.win-amd64-3.8\\detectron2\\data\\transforms\n",
      "      creating build\\lib.win-amd64-3.8\\detectron2\\modeling\\backbone\n",
      "      copying detectron2\\modeling\\backbone\\backbone.py -> build\\lib.win-amd64-3.8\\detectron2\\modeling\\backbone\n",
      "      copying detectron2\\modeling\\backbone\\build.py -> build\\lib.win-amd64-3.8\\detectron2\\modeling\\backbone\n",
      "      copying detectron2\\modeling\\backbone\\fpn.py -> build\\lib.win-amd64-3.8\\detectron2\\modeling\\backbone\n",
      "      copying detectron2\\modeling\\backbone\\mvit.py -> build\\lib.win-amd64-3.8\\detectron2\\modeling\\backbone\n",
      "      copying detectron2\\modeling\\backbone\\regnet.py -> build\\lib.win-amd64-3.8\\detectron2\\modeling\\backbone\n",
      "      copying detectron2\\modeling\\backbone\\resnet.py -> build\\lib.win-amd64-3.8\\detectron2\\modeling\\backbone\n",
      "      copying detectron2\\modeling\\backbone\\swin.py -> build\\lib.win-amd64-3.8\\detectron2\\modeling\\backbone\n",
      "      copying detectron2\\modeling\\backbone\\utils.py -> build\\lib.win-amd64-3.8\\detectron2\\modeling\\backbone\n",
      "      copying detectron2\\modeling\\backbone\\vit.py -> build\\lib.win-amd64-3.8\\detectron2\\modeling\\backbone\n",
      "      copying detectron2\\modeling\\backbone\\__init__.py -> build\\lib.win-amd64-3.8\\detectron2\\modeling\\backbone\n",
      "      creating build\\lib.win-amd64-3.8\\detectron2\\modeling\\meta_arch\n",
      "      copying detectron2\\modeling\\meta_arch\\build.py -> build\\lib.win-amd64-3.8\\detectron2\\modeling\\meta_arch\n",
      "      copying detectron2\\modeling\\meta_arch\\dense_detector.py -> build\\lib.win-amd64-3.8\\detectron2\\modeling\\meta_arch\n",
      "      copying detectron2\\modeling\\meta_arch\\fcos.py -> build\\lib.win-amd64-3.8\\detectron2\\modeling\\meta_arch\n",
      "      copying detectron2\\modeling\\meta_arch\\panoptic_fpn.py -> build\\lib.win-amd64-3.8\\detectron2\\modeling\\meta_arch\n",
      "      copying detectron2\\modeling\\meta_arch\\rcnn.py -> build\\lib.win-amd64-3.8\\detectron2\\modeling\\meta_arch\n",
      "      copying detectron2\\modeling\\meta_arch\\retinanet.py -> build\\lib.win-amd64-3.8\\detectron2\\modeling\\meta_arch\n",
      "      copying detectron2\\modeling\\meta_arch\\semantic_seg.py -> build\\lib.win-amd64-3.8\\detectron2\\modeling\\meta_arch\n",
      "      copying detectron2\\modeling\\meta_arch\\__init__.py -> build\\lib.win-amd64-3.8\\detectron2\\modeling\\meta_arch\n",
      "      creating build\\lib.win-amd64-3.8\\detectron2\\modeling\\proposal_generator\n",
      "      copying detectron2\\modeling\\proposal_generator\\build.py -> build\\lib.win-amd64-3.8\\detectron2\\modeling\\proposal_generator\n",
      "      copying detectron2\\modeling\\proposal_generator\\proposal_utils.py -> build\\lib.win-amd64-3.8\\detectron2\\modeling\\proposal_generator\n",
      "      copying detectron2\\modeling\\proposal_generator\\rpn.py -> build\\lib.win-amd64-3.8\\detectron2\\modeling\\proposal_generator\n",
      "      copying detectron2\\modeling\\proposal_generator\\rrpn.py -> build\\lib.win-amd64-3.8\\detectron2\\modeling\\proposal_generator\n",
      "      copying detectron2\\modeling\\proposal_generator\\__init__.py -> build\\lib.win-amd64-3.8\\detectron2\\modeling\\proposal_generator\n",
      "      creating build\\lib.win-amd64-3.8\\detectron2\\modeling\\roi_heads\n",
      "      copying detectron2\\modeling\\roi_heads\\box_head.py -> build\\lib.win-amd64-3.8\\detectron2\\modeling\\roi_heads\n",
      "      copying detectron2\\modeling\\roi_heads\\cascade_rcnn.py -> build\\lib.win-amd64-3.8\\detectron2\\modeling\\roi_heads\n",
      "      copying detectron2\\modeling\\roi_heads\\fast_rcnn.py -> build\\lib.win-amd64-3.8\\detectron2\\modeling\\roi_heads\n",
      "      copying detectron2\\modeling\\roi_heads\\keypoint_head.py -> build\\lib.win-amd64-3.8\\detectron2\\modeling\\roi_heads\n",
      "      copying detectron2\\modeling\\roi_heads\\mask_head.py -> build\\lib.win-amd64-3.8\\detectron2\\modeling\\roi_heads\n",
      "      copying detectron2\\modeling\\roi_heads\\roi_heads.py -> build\\lib.win-amd64-3.8\\detectron2\\modeling\\roi_heads\n",
      "      copying detectron2\\modeling\\roi_heads\\rotated_fast_rcnn.py -> build\\lib.win-amd64-3.8\\detectron2\\modeling\\roi_heads\n",
      "      copying detectron2\\modeling\\roi_heads\\__init__.py -> build\\lib.win-amd64-3.8\\detectron2\\modeling\\roi_heads\n",
      "      creating build\\lib.win-amd64-3.8\\detectron2\\projects\\point_rend\n",
      "      copying projects\\PointRend\\point_rend\\color_augmentation.py -> build\\lib.win-amd64-3.8\\detectron2\\projects\\point_rend\n",
      "      copying projects\\PointRend\\point_rend\\config.py -> build\\lib.win-amd64-3.8\\detectron2\\projects\\point_rend\n",
      "      copying projects\\PointRend\\point_rend\\mask_head.py -> build\\lib.win-amd64-3.8\\detectron2\\projects\\point_rend\n",
      "      copying projects\\PointRend\\point_rend\\point_features.py -> build\\lib.win-amd64-3.8\\detectron2\\projects\\point_rend\n",
      "      copying projects\\PointRend\\point_rend\\point_head.py -> build\\lib.win-amd64-3.8\\detectron2\\projects\\point_rend\n",
      "      copying projects\\PointRend\\point_rend\\roi_heads.py -> build\\lib.win-amd64-3.8\\detectron2\\projects\\point_rend\n",
      "      copying projects\\PointRend\\point_rend\\semantic_seg.py -> build\\lib.win-amd64-3.8\\detectron2\\projects\\point_rend\n",
      "      copying projects\\PointRend\\point_rend\\__init__.py -> build\\lib.win-amd64-3.8\\detectron2\\projects\\point_rend\n",
      "      creating build\\lib.win-amd64-3.8\\detectron2\\projects\\deeplab\n",
      "      copying projects\\DeepLab\\deeplab\\build_solver.py -> build\\lib.win-amd64-3.8\\detectron2\\projects\\deeplab\n",
      "      copying projects\\DeepLab\\deeplab\\config.py -> build\\lib.win-amd64-3.8\\detectron2\\projects\\deeplab\n",
      "      copying projects\\DeepLab\\deeplab\\loss.py -> build\\lib.win-amd64-3.8\\detectron2\\projects\\deeplab\n",
      "      copying projects\\DeepLab\\deeplab\\lr_scheduler.py -> build\\lib.win-amd64-3.8\\detectron2\\projects\\deeplab\n",
      "      copying projects\\DeepLab\\deeplab\\resnet.py -> build\\lib.win-amd64-3.8\\detectron2\\projects\\deeplab\n",
      "      copying projects\\DeepLab\\deeplab\\semantic_seg.py -> build\\lib.win-amd64-3.8\\detectron2\\projects\\deeplab\n",
      "      copying projects\\DeepLab\\deeplab\\__init__.py -> build\\lib.win-amd64-3.8\\detectron2\\projects\\deeplab\n",
      "      creating build\\lib.win-amd64-3.8\\detectron2\\projects\\panoptic_deeplab\n",
      "      copying projects\\Panoptic-DeepLab\\panoptic_deeplab\\config.py -> build\\lib.win-amd64-3.8\\detectron2\\projects\\panoptic_deeplab\n",
      "      copying projects\\Panoptic-DeepLab\\panoptic_deeplab\\dataset_mapper.py -> build\\lib.win-amd64-3.8\\detectron2\\projects\\panoptic_deeplab\n",
      "      copying projects\\Panoptic-DeepLab\\panoptic_deeplab\\panoptic_seg.py -> build\\lib.win-amd64-3.8\\detectron2\\projects\\panoptic_deeplab\n",
      "      copying projects\\Panoptic-DeepLab\\panoptic_deeplab\\post_processing.py -> build\\lib.win-amd64-3.8\\detectron2\\projects\\panoptic_deeplab\n",
      "      copying projects\\Panoptic-DeepLab\\panoptic_deeplab\\target_generator.py -> build\\lib.win-amd64-3.8\\detectron2\\projects\\panoptic_deeplab\n",
      "      copying projects\\Panoptic-DeepLab\\panoptic_deeplab\\__init__.py -> build\\lib.win-amd64-3.8\\detectron2\\projects\\panoptic_deeplab\n",
      "      creating build\\lib.win-amd64-3.8\\detectron2\\model_zoo\\configs\n",
      "      copying detectron2\\model_zoo\\configs\\Base-RCNN-C4.yaml -> build\\lib.win-amd64-3.8\\detectron2\\model_zoo\\configs\n",
      "      copying detectron2\\model_zoo\\configs\\Base-RCNN-DilatedC5.yaml -> build\\lib.win-amd64-3.8\\detectron2\\model_zoo\\configs\n",
      "      copying detectron2\\model_zoo\\configs\\Base-RCNN-FPN.yaml -> build\\lib.win-amd64-3.8\\detectron2\\model_zoo\\configs\n",
      "      copying detectron2\\model_zoo\\configs\\Base-RetinaNet.yaml -> build\\lib.win-amd64-3.8\\detectron2\\model_zoo\\configs\n",
      "      creating build\\lib.win-amd64-3.8\\detectron2\\model_zoo\\configs\\Cityscapes\n",
      "      copying detectron2\\model_zoo\\configs\\Cityscapes\\mask_rcnn_R_50_FPN.yaml -> build\\lib.win-amd64-3.8\\detectron2\\model_zoo\\configs\\Cityscapes\n",
      "      creating build\\lib.win-amd64-3.8\\detectron2\\model_zoo\\configs\\COCO-Detection\n",
      "      copying detectron2\\model_zoo\\configs\\COCO-Detection\\faster_rcnn_R_101_C4_3x.yaml -> build\\lib.win-amd64-3.8\\detectron2\\model_zoo\\configs\\COCO-Detection\n",
      "      copying detectron2\\model_zoo\\configs\\COCO-Detection\\faster_rcnn_R_101_DC5_3x.yaml -> build\\lib.win-amd64-3.8\\detectron2\\model_zoo\\configs\\COCO-Detection\n",
      "      copying detectron2\\model_zoo\\configs\\COCO-Detection\\faster_rcnn_R_101_FPN_3x.yaml -> build\\lib.win-amd64-3.8\\detectron2\\model_zoo\\configs\\COCO-Detection\n",
      "      copying detectron2\\model_zoo\\configs\\COCO-Detection\\faster_rcnn_R_50_C4_1x.yaml -> build\\lib.win-amd64-3.8\\detectron2\\model_zoo\\configs\\COCO-Detection\n",
      "      copying detectron2\\model_zoo\\configs\\COCO-Detection\\faster_rcnn_R_50_C4_3x.yaml -> build\\lib.win-amd64-3.8\\detectron2\\model_zoo\\configs\\COCO-Detection\n",
      "      copying detectron2\\model_zoo\\configs\\COCO-Detection\\faster_rcnn_R_50_DC5_1x.yaml -> build\\lib.win-amd64-3.8\\detectron2\\model_zoo\\configs\\COCO-Detection\n",
      "      copying detectron2\\model_zoo\\configs\\COCO-Detection\\faster_rcnn_R_50_DC5_3x.yaml -> build\\lib.win-amd64-3.8\\detectron2\\model_zoo\\configs\\COCO-Detection\n",
      "      copying detectron2\\model_zoo\\configs\\COCO-Detection\\faster_rcnn_R_50_FPN_1x.yaml -> build\\lib.win-amd64-3.8\\detectron2\\model_zoo\\configs\\COCO-Detection\n",
      "      copying detectron2\\model_zoo\\configs\\COCO-Detection\\faster_rcnn_R_50_FPN_3x.yaml -> build\\lib.win-amd64-3.8\\detectron2\\model_zoo\\configs\\COCO-Detection\n",
      "      copying detectron2\\model_zoo\\configs\\COCO-Detection\\faster_rcnn_X_101_32x8d_FPN_3x.yaml -> build\\lib.win-amd64-3.8\\detectron2\\model_zoo\\configs\\COCO-Detection\n",
      "      copying detectron2\\model_zoo\\configs\\COCO-Detection\\fast_rcnn_R_50_FPN_1x.yaml -> build\\lib.win-amd64-3.8\\detectron2\\model_zoo\\configs\\COCO-Detection\n",
      "      copying detectron2\\model_zoo\\configs\\COCO-Detection\\retinanet_R_101_FPN_3x.yaml -> build\\lib.win-amd64-3.8\\detectron2\\model_zoo\\configs\\COCO-Detection\n",
      "      copying detectron2\\model_zoo\\configs\\COCO-Detection\\retinanet_R_50_FPN_1x.yaml -> build\\lib.win-amd64-3.8\\detectron2\\model_zoo\\configs\\COCO-Detection\n",
      "      copying detectron2\\model_zoo\\configs\\COCO-Detection\\retinanet_R_50_FPN_3x.yaml -> build\\lib.win-amd64-3.8\\detectron2\\model_zoo\\configs\\COCO-Detection\n",
      "      copying detectron2\\model_zoo\\configs\\COCO-Detection\\rpn_R_50_C4_1x.yaml -> build\\lib.win-amd64-3.8\\detectron2\\model_zoo\\configs\\COCO-Detection\n",
      "      copying detectron2\\model_zoo\\configs\\COCO-Detection\\rpn_R_50_FPN_1x.yaml -> build\\lib.win-amd64-3.8\\detectron2\\model_zoo\\configs\\COCO-Detection\n",
      "      creating build\\lib.win-amd64-3.8\\detectron2\\model_zoo\\configs\\COCO-InstanceSegmentation\n",
      "      copying detectron2\\model_zoo\\configs\\COCO-InstanceSegmentation\\mask_rcnn_R_101_C4_3x.yaml -> build\\lib.win-amd64-3.8\\detectron2\\model_zoo\\configs\\COCO-InstanceSegmentation\n",
      "      copying detectron2\\model_zoo\\configs\\COCO-InstanceSegmentation\\mask_rcnn_R_101_DC5_3x.yaml -> build\\lib.win-amd64-3.8\\detectron2\\model_zoo\\configs\\COCO-InstanceSegmentation\n",
      "      copying detectron2\\model_zoo\\configs\\COCO-InstanceSegmentation\\mask_rcnn_R_101_FPN_3x.yaml -> build\\lib.win-amd64-3.8\\detectron2\\model_zoo\\configs\\COCO-InstanceSegmentation\n",
      "      copying detectron2\\model_zoo\\configs\\COCO-InstanceSegmentation\\mask_rcnn_R_50_C4_1x.yaml -> build\\lib.win-amd64-3.8\\detectron2\\model_zoo\\configs\\COCO-InstanceSegmentation\n",
      "      copying detectron2\\model_zoo\\configs\\COCO-InstanceSegmentation\\mask_rcnn_R_50_C4_3x.yaml -> build\\lib.win-amd64-3.8\\detectron2\\model_zoo\\configs\\COCO-InstanceSegmentation\n",
      "      copying detectron2\\model_zoo\\configs\\COCO-InstanceSegmentation\\mask_rcnn_R_50_DC5_1x.yaml -> build\\lib.win-amd64-3.8\\detectron2\\model_zoo\\configs\\COCO-InstanceSegmentation\n",
      "      copying detectron2\\model_zoo\\configs\\COCO-InstanceSegmentation\\mask_rcnn_R_50_DC5_3x.yaml -> build\\lib.win-amd64-3.8\\detectron2\\model_zoo\\configs\\COCO-InstanceSegmentation\n",
      "      copying detectron2\\model_zoo\\configs\\COCO-InstanceSegmentation\\mask_rcnn_R_50_FPN_1x.yaml -> build\\lib.win-amd64-3.8\\detectron2\\model_zoo\\configs\\COCO-InstanceSegmentation\n",
      "      copying detectron2\\model_zoo\\configs\\COCO-InstanceSegmentation\\mask_rcnn_R_50_FPN_1x_giou.yaml -> build\\lib.win-amd64-3.8\\detectron2\\model_zoo\\configs\\COCO-InstanceSegmentation\n",
      "      copying detectron2\\model_zoo\\configs\\COCO-InstanceSegmentation\\mask_rcnn_R_50_FPN_3x.yaml -> build\\lib.win-amd64-3.8\\detectron2\\model_zoo\\configs\\COCO-InstanceSegmentation\n",
      "      copying detectron2\\model_zoo\\configs\\COCO-InstanceSegmentation\\mask_rcnn_X_101_32x8d_FPN_3x.yaml -> build\\lib.win-amd64-3.8\\detectron2\\model_zoo\\configs\\COCO-InstanceSegmentation\n",
      "      creating build\\lib.win-amd64-3.8\\detectron2\\model_zoo\\configs\\COCO-Keypoints\n",
      "      copying detectron2\\model_zoo\\configs\\COCO-Keypoints\\Base-Keypoint-RCNN-FPN.yaml -> build\\lib.win-amd64-3.8\\detectron2\\model_zoo\\configs\\COCO-Keypoints\n",
      "      copying detectron2\\model_zoo\\configs\\COCO-Keypoints\\keypoint_rcnn_R_101_FPN_3x.yaml -> build\\lib.win-amd64-3.8\\detectron2\\model_zoo\\configs\\COCO-Keypoints\n",
      "      copying detectron2\\model_zoo\\configs\\COCO-Keypoints\\keypoint_rcnn_R_50_FPN_1x.yaml -> build\\lib.win-amd64-3.8\\detectron2\\model_zoo\\configs\\COCO-Keypoints\n",
      "      copying detectron2\\model_zoo\\configs\\COCO-Keypoints\\keypoint_rcnn_R_50_FPN_3x.yaml -> build\\lib.win-amd64-3.8\\detectron2\\model_zoo\\configs\\COCO-Keypoints\n",
      "      copying detectron2\\model_zoo\\configs\\COCO-Keypoints\\keypoint_rcnn_X_101_32x8d_FPN_3x.yaml -> build\\lib.win-amd64-3.8\\detectron2\\model_zoo\\configs\\COCO-Keypoints\n",
      "      creating build\\lib.win-amd64-3.8\\detectron2\\model_zoo\\configs\\COCO-PanopticSegmentation\n",
      "      copying detectron2\\model_zoo\\configs\\COCO-PanopticSegmentation\\Base-Panoptic-FPN.yaml -> build\\lib.win-amd64-3.8\\detectron2\\model_zoo\\configs\\COCO-PanopticSegmentation\n",
      "      copying detectron2\\model_zoo\\configs\\COCO-PanopticSegmentation\\panoptic_fpn_R_101_3x.yaml -> build\\lib.win-amd64-3.8\\detectron2\\model_zoo\\configs\\COCO-PanopticSegmentation\n",
      "      copying detectron2\\model_zoo\\configs\\COCO-PanopticSegmentation\\panoptic_fpn_R_50_1x.yaml -> build\\lib.win-amd64-3.8\\detectron2\\model_zoo\\configs\\COCO-PanopticSegmentation\n",
      "      copying detectron2\\model_zoo\\configs\\COCO-PanopticSegmentation\\panoptic_fpn_R_50_3x.yaml -> build\\lib.win-amd64-3.8\\detectron2\\model_zoo\\configs\\COCO-PanopticSegmentation\n",
      "      creating build\\lib.win-amd64-3.8\\detectron2\\model_zoo\\configs\\Detectron1-Comparisons\n",
      "      copying detectron2\\model_zoo\\configs\\Detectron1-Comparisons\\faster_rcnn_R_50_FPN_noaug_1x.yaml -> build\\lib.win-amd64-3.8\\detectron2\\model_zoo\\configs\\Detectron1-Comparisons\n",
      "      copying detectron2\\model_zoo\\configs\\Detectron1-Comparisons\\keypoint_rcnn_R_50_FPN_1x.yaml -> build\\lib.win-amd64-3.8\\detectron2\\model_zoo\\configs\\Detectron1-Comparisons\n",
      "      copying detectron2\\model_zoo\\configs\\Detectron1-Comparisons\\mask_rcnn_R_50_FPN_noaug_1x.yaml -> build\\lib.win-amd64-3.8\\detectron2\\model_zoo\\configs\\Detectron1-Comparisons\n",
      "      creating build\\lib.win-amd64-3.8\\detectron2\\model_zoo\\configs\\LVISv0.5-InstanceSegmentation\n",
      "      copying detectron2\\model_zoo\\configs\\LVISv0.5-InstanceSegmentation\\mask_rcnn_R_101_FPN_1x.yaml -> build\\lib.win-amd64-3.8\\detectron2\\model_zoo\\configs\\LVISv0.5-InstanceSegmentation\n",
      "      copying detectron2\\model_zoo\\configs\\LVISv0.5-InstanceSegmentation\\mask_rcnn_R_50_FPN_1x.yaml -> build\\lib.win-amd64-3.8\\detectron2\\model_zoo\\configs\\LVISv0.5-InstanceSegmentation\n",
      "      copying detectron2\\model_zoo\\configs\\LVISv0.5-InstanceSegmentation\\mask_rcnn_X_101_32x8d_FPN_1x.yaml -> build\\lib.win-amd64-3.8\\detectron2\\model_zoo\\configs\\LVISv0.5-InstanceSegmentation\n",
      "      creating build\\lib.win-amd64-3.8\\detectron2\\model_zoo\\configs\\LVISv1-InstanceSegmentation\n",
      "      copying detectron2\\model_zoo\\configs\\LVISv1-InstanceSegmentation\\mask_rcnn_R_101_FPN_1x.yaml -> build\\lib.win-amd64-3.8\\detectron2\\model_zoo\\configs\\LVISv1-InstanceSegmentation\n",
      "      copying detectron2\\model_zoo\\configs\\LVISv1-InstanceSegmentation\\mask_rcnn_R_50_FPN_1x.yaml -> build\\lib.win-amd64-3.8\\detectron2\\model_zoo\\configs\\LVISv1-InstanceSegmentation\n",
      "      copying detectron2\\model_zoo\\configs\\LVISv1-InstanceSegmentation\\mask_rcnn_X_101_32x8d_FPN_1x.yaml -> build\\lib.win-amd64-3.8\\detectron2\\model_zoo\\configs\\LVISv1-InstanceSegmentation\n",
      "      creating build\\lib.win-amd64-3.8\\detectron2\\model_zoo\\configs\\Misc\n",
      "      copying detectron2\\model_zoo\\configs\\Misc\\cascade_mask_rcnn_R_50_FPN_1x.yaml -> build\\lib.win-amd64-3.8\\detectron2\\model_zoo\\configs\\Misc\n",
      "      copying detectron2\\model_zoo\\configs\\Misc\\cascade_mask_rcnn_R_50_FPN_3x.yaml -> build\\lib.win-amd64-3.8\\detectron2\\model_zoo\\configs\\Misc\n",
      "      copying detectron2\\model_zoo\\configs\\Misc\\cascade_mask_rcnn_X_152_32x8d_FPN_IN5k_gn_dconv.yaml -> build\\lib.win-amd64-3.8\\detectron2\\model_zoo\\configs\\Misc\n",
      "      copying detectron2\\model_zoo\\configs\\Misc\\mask_rcnn_R_50_FPN_1x_cls_agnostic.yaml -> build\\lib.win-amd64-3.8\\detectron2\\model_zoo\\configs\\Misc\n",
      "      copying detectron2\\model_zoo\\configs\\Misc\\mask_rcnn_R_50_FPN_1x_dconv_c3-c5.yaml -> build\\lib.win-amd64-3.8\\detectron2\\model_zoo\\configs\\Misc\n",
      "      copying detectron2\\model_zoo\\configs\\Misc\\mask_rcnn_R_50_FPN_3x_dconv_c3-c5.yaml -> build\\lib.win-amd64-3.8\\detectron2\\model_zoo\\configs\\Misc\n",
      "      copying detectron2\\model_zoo\\configs\\Misc\\mask_rcnn_R_50_FPN_3x_gn.yaml -> build\\lib.win-amd64-3.8\\detectron2\\model_zoo\\configs\\Misc\n",
      "      copying detectron2\\model_zoo\\configs\\Misc\\mask_rcnn_R_50_FPN_3x_syncbn.yaml -> build\\lib.win-amd64-3.8\\detectron2\\model_zoo\\configs\\Misc\n",
      "      copying detectron2\\model_zoo\\configs\\Misc\\panoptic_fpn_R_101_dconv_cascade_gn_3x.yaml -> build\\lib.win-amd64-3.8\\detectron2\\model_zoo\\configs\\Misc\n",
      "      copying detectron2\\model_zoo\\configs\\Misc\\scratch_mask_rcnn_R_50_FPN_3x_gn.yaml -> build\\lib.win-amd64-3.8\\detectron2\\model_zoo\\configs\\Misc\n",
      "      copying detectron2\\model_zoo\\configs\\Misc\\scratch_mask_rcnn_R_50_FPN_9x_gn.yaml -> build\\lib.win-amd64-3.8\\detectron2\\model_zoo\\configs\\Misc\n",
      "      copying detectron2\\model_zoo\\configs\\Misc\\scratch_mask_rcnn_R_50_FPN_9x_syncbn.yaml -> build\\lib.win-amd64-3.8\\detectron2\\model_zoo\\configs\\Misc\n",
      "      copying detectron2\\model_zoo\\configs\\Misc\\semantic_R_50_FPN_1x.yaml -> build\\lib.win-amd64-3.8\\detectron2\\model_zoo\\configs\\Misc\n",
      "      creating build\\lib.win-amd64-3.8\\detectron2\\model_zoo\\configs\\PascalVOC-Detection\n",
      "      copying detectron2\\model_zoo\\configs\\PascalVOC-Detection\\faster_rcnn_R_50_C4.yaml -> build\\lib.win-amd64-3.8\\detectron2\\model_zoo\\configs\\PascalVOC-Detection\n",
      "      copying detectron2\\model_zoo\\configs\\PascalVOC-Detection\\faster_rcnn_R_50_FPN.yaml -> build\\lib.win-amd64-3.8\\detectron2\\model_zoo\\configs\\PascalVOC-Detection\n",
      "      creating build\\lib.win-amd64-3.8\\detectron2\\model_zoo\\configs\\quick_schedules\n",
      "      copying detectron2\\model_zoo\\configs\\quick_schedules\\cascade_mask_rcnn_R_50_FPN_inference_acc_test.yaml -> build\\lib.win-amd64-3.8\\detectron2\\model_zoo\\configs\\quick_schedules\n",
      "      copying detectron2\\model_zoo\\configs\\quick_schedules\\cascade_mask_rcnn_R_50_FPN_instant_test.yaml -> build\\lib.win-amd64-3.8\\detectron2\\model_zoo\\configs\\quick_schedules\n",
      "      copying detectron2\\model_zoo\\configs\\quick_schedules\\fast_rcnn_R_50_FPN_inference_acc_test.yaml -> build\\lib.win-amd64-3.8\\detectron2\\model_zoo\\configs\\quick_schedules\n",
      "      copying detectron2\\model_zoo\\configs\\quick_schedules\\fast_rcnn_R_50_FPN_instant_test.yaml -> build\\lib.win-amd64-3.8\\detectron2\\model_zoo\\configs\\quick_schedules\n",
      "      copying detectron2\\model_zoo\\configs\\quick_schedules\\keypoint_rcnn_R_50_FPN_inference_acc_test.yaml -> build\\lib.win-amd64-3.8\\detectron2\\model_zoo\\configs\\quick_schedules\n",
      "      copying detectron2\\model_zoo\\configs\\quick_schedules\\keypoint_rcnn_R_50_FPN_instant_test.yaml -> build\\lib.win-amd64-3.8\\detectron2\\model_zoo\\configs\\quick_schedules\n",
      "      copying detectron2\\model_zoo\\configs\\quick_schedules\\keypoint_rcnn_R_50_FPN_normalized_training_acc_test.yaml -> build\\lib.win-amd64-3.8\\detectron2\\model_zoo\\configs\\quick_schedules\n",
      "      copying detectron2\\model_zoo\\configs\\quick_schedules\\keypoint_rcnn_R_50_FPN_training_acc_test.yaml -> build\\lib.win-amd64-3.8\\detectron2\\model_zoo\\configs\\quick_schedules\n",
      "      copying detectron2\\model_zoo\\configs\\quick_schedules\\mask_rcnn_R_50_C4_GCV_instant_test.yaml -> build\\lib.win-amd64-3.8\\detectron2\\model_zoo\\configs\\quick_schedules\n",
      "      copying detectron2\\model_zoo\\configs\\quick_schedules\\mask_rcnn_R_50_C4_inference_acc_test.yaml -> build\\lib.win-amd64-3.8\\detectron2\\model_zoo\\configs\\quick_schedules\n",
      "      copying detectron2\\model_zoo\\configs\\quick_schedules\\mask_rcnn_R_50_C4_instant_test.yaml -> build\\lib.win-amd64-3.8\\detectron2\\model_zoo\\configs\\quick_schedules\n",
      "      copying detectron2\\model_zoo\\configs\\quick_schedules\\mask_rcnn_R_50_C4_training_acc_test.yaml -> build\\lib.win-amd64-3.8\\detectron2\\model_zoo\\configs\\quick_schedules\n",
      "      copying detectron2\\model_zoo\\configs\\quick_schedules\\mask_rcnn_R_50_DC5_inference_acc_test.yaml -> build\\lib.win-amd64-3.8\\detectron2\\model_zoo\\configs\\quick_schedules\n",
      "      copying detectron2\\model_zoo\\configs\\quick_schedules\\mask_rcnn_R_50_FPN_inference_acc_test.yaml -> build\\lib.win-amd64-3.8\\detectron2\\model_zoo\\configs\\quick_schedules\n",
      "      copying detectron2\\model_zoo\\configs\\quick_schedules\\mask_rcnn_R_50_FPN_instant_test.yaml -> build\\lib.win-amd64-3.8\\detectron2\\model_zoo\\configs\\quick_schedules\n",
      "      copying detectron2\\model_zoo\\configs\\quick_schedules\\mask_rcnn_R_50_FPN_pred_boxes_training_acc_test.yaml -> build\\lib.win-amd64-3.8\\detectron2\\model_zoo\\configs\\quick_schedules\n",
      "      copying detectron2\\model_zoo\\configs\\quick_schedules\\mask_rcnn_R_50_FPN_training_acc_test.yaml -> build\\lib.win-amd64-3.8\\detectron2\\model_zoo\\configs\\quick_schedules\n",
      "      copying detectron2\\model_zoo\\configs\\quick_schedules\\panoptic_fpn_R_50_inference_acc_test.yaml -> build\\lib.win-amd64-3.8\\detectron2\\model_zoo\\configs\\quick_schedules\n",
      "      copying detectron2\\model_zoo\\configs\\quick_schedules\\panoptic_fpn_R_50_instant_test.yaml -> build\\lib.win-amd64-3.8\\detectron2\\model_zoo\\configs\\quick_schedules\n",
      "      copying detectron2\\model_zoo\\configs\\quick_schedules\\panoptic_fpn_R_50_training_acc_test.yaml -> build\\lib.win-amd64-3.8\\detectron2\\model_zoo\\configs\\quick_schedules\n",
      "      copying detectron2\\model_zoo\\configs\\quick_schedules\\retinanet_R_50_FPN_inference_acc_test.yaml -> build\\lib.win-amd64-3.8\\detectron2\\model_zoo\\configs\\quick_schedules\n",
      "      copying detectron2\\model_zoo\\configs\\quick_schedules\\retinanet_R_50_FPN_instant_test.yaml -> build\\lib.win-amd64-3.8\\detectron2\\model_zoo\\configs\\quick_schedules\n",
      "      copying detectron2\\model_zoo\\configs\\quick_schedules\\rpn_R_50_FPN_inference_acc_test.yaml -> build\\lib.win-amd64-3.8\\detectron2\\model_zoo\\configs\\quick_schedules\n",
      "      copying detectron2\\model_zoo\\configs\\quick_schedules\\rpn_R_50_FPN_instant_test.yaml -> build\\lib.win-amd64-3.8\\detectron2\\model_zoo\\configs\\quick_schedules\n",
      "      copying detectron2\\model_zoo\\configs\\quick_schedules\\semantic_R_50_FPN_inference_acc_test.yaml -> build\\lib.win-amd64-3.8\\detectron2\\model_zoo\\configs\\quick_schedules\n",
      "      copying detectron2\\model_zoo\\configs\\quick_schedules\\semantic_R_50_FPN_instant_test.yaml -> build\\lib.win-amd64-3.8\\detectron2\\model_zoo\\configs\\quick_schedules\n",
      "      copying detectron2\\model_zoo\\configs\\quick_schedules\\semantic_R_50_FPN_training_acc_test.yaml -> build\\lib.win-amd64-3.8\\detectron2\\model_zoo\\configs\\quick_schedules\n",
      "      copying detectron2\\model_zoo\\configs\\COCO-Detection\\fcos_R_50_FPN_1x.py -> build\\lib.win-amd64-3.8\\detectron2\\model_zoo\\configs\\COCO-Detection\n",
      "      copying detectron2\\model_zoo\\configs\\COCO-Detection\\retinanet_R_50_FPN_1x.py -> build\\lib.win-amd64-3.8\\detectron2\\model_zoo\\configs\\COCO-Detection\n",
      "      copying detectron2\\model_zoo\\configs\\COCO-InstanceSegmentation\\mask_rcnn_regnetx_4gf_dds_fpn_1x.py -> build\\lib.win-amd64-3.8\\detectron2\\model_zoo\\configs\\COCO-InstanceSegmentation\n",
      "      copying detectron2\\model_zoo\\configs\\COCO-InstanceSegmentation\\mask_rcnn_regnety_4gf_dds_fpn_1x.py -> build\\lib.win-amd64-3.8\\detectron2\\model_zoo\\configs\\COCO-InstanceSegmentation\n",
      "      copying detectron2\\model_zoo\\configs\\COCO-InstanceSegmentation\\mask_rcnn_R_50_C4_1x.py -> build\\lib.win-amd64-3.8\\detectron2\\model_zoo\\configs\\COCO-InstanceSegmentation\n",
      "      copying detectron2\\model_zoo\\configs\\COCO-InstanceSegmentation\\mask_rcnn_R_50_FPN_1x.py -> build\\lib.win-amd64-3.8\\detectron2\\model_zoo\\configs\\COCO-InstanceSegmentation\n",
      "      copying detectron2\\model_zoo\\configs\\COCO-Keypoints\\keypoint_rcnn_R_50_FPN_1x.py -> build\\lib.win-amd64-3.8\\detectron2\\model_zoo\\configs\\COCO-Keypoints\n",
      "      copying detectron2\\model_zoo\\configs\\COCO-PanopticSegmentation\\panoptic_fpn_R_50_1x.py -> build\\lib.win-amd64-3.8\\detectron2\\model_zoo\\configs\\COCO-PanopticSegmentation\n",
      "      creating build\\lib.win-amd64-3.8\\detectron2\\model_zoo\\configs\\common\n",
      "      copying detectron2\\model_zoo\\configs\\common\\coco_schedule.py -> build\\lib.win-amd64-3.8\\detectron2\\model_zoo\\configs\\common\n",
      "      copying detectron2\\model_zoo\\configs\\common\\optim.py -> build\\lib.win-amd64-3.8\\detectron2\\model_zoo\\configs\\common\n",
      "      copying detectron2\\model_zoo\\configs\\common\\train.py -> build\\lib.win-amd64-3.8\\detectron2\\model_zoo\\configs\\common\n",
      "      creating build\\lib.win-amd64-3.8\\detectron2\\model_zoo\\configs\\common\\data\n",
      "      copying detectron2\\model_zoo\\configs\\common\\data\\coco.py -> build\\lib.win-amd64-3.8\\detectron2\\model_zoo\\configs\\common\\data\n",
      "      copying detectron2\\model_zoo\\configs\\common\\data\\coco_keypoint.py -> build\\lib.win-amd64-3.8\\detectron2\\model_zoo\\configs\\common\\data\n",
      "      copying detectron2\\model_zoo\\configs\\common\\data\\coco_panoptic_separated.py -> build\\lib.win-amd64-3.8\\detectron2\\model_zoo\\configs\\common\\data\n",
      "      copying detectron2\\model_zoo\\configs\\common\\data\\constants.py -> build\\lib.win-amd64-3.8\\detectron2\\model_zoo\\configs\\common\\data\n",
      "      creating build\\lib.win-amd64-3.8\\detectron2\\model_zoo\\configs\\common\\models\n",
      "      copying detectron2\\model_zoo\\configs\\common\\models\\cascade_rcnn.py -> build\\lib.win-amd64-3.8\\detectron2\\model_zoo\\configs\\common\\models\n",
      "      copying detectron2\\model_zoo\\configs\\common\\models\\fcos.py -> build\\lib.win-amd64-3.8\\detectron2\\model_zoo\\configs\\common\\models\n",
      "      copying detectron2\\model_zoo\\configs\\common\\models\\keypoint_rcnn_fpn.py -> build\\lib.win-amd64-3.8\\detectron2\\model_zoo\\configs\\common\\models\n",
      "      copying detectron2\\model_zoo\\configs\\common\\models\\mask_rcnn_c4.py -> build\\lib.win-amd64-3.8\\detectron2\\model_zoo\\configs\\common\\models\n",
      "      copying detectron2\\model_zoo\\configs\\common\\models\\mask_rcnn_fpn.py -> build\\lib.win-amd64-3.8\\detectron2\\model_zoo\\configs\\common\\models\n",
      "      copying detectron2\\model_zoo\\configs\\common\\models\\mask_rcnn_vitdet.py -> build\\lib.win-amd64-3.8\\detectron2\\model_zoo\\configs\\common\\models\n",
      "      copying detectron2\\model_zoo\\configs\\common\\models\\panoptic_fpn.py -> build\\lib.win-amd64-3.8\\detectron2\\model_zoo\\configs\\common\\models\n",
      "      copying detectron2\\model_zoo\\configs\\common\\models\\retinanet.py -> build\\lib.win-amd64-3.8\\detectron2\\model_zoo\\configs\\common\\models\n",
      "      copying detectron2\\model_zoo\\configs\\Misc\\mmdet_mask_rcnn_R_50_FPN_1x.py -> build\\lib.win-amd64-3.8\\detectron2\\model_zoo\\configs\\Misc\n",
      "      copying detectron2\\model_zoo\\configs\\Misc\\torchvision_imagenet_R_50.py -> build\\lib.win-amd64-3.8\\detectron2\\model_zoo\\configs\\Misc\n",
      "      creating build\\lib.win-amd64-3.8\\detectron2\\model_zoo\\configs\\new_baselines\n",
      "      copying detectron2\\model_zoo\\configs\\new_baselines\\mask_rcnn_regnetx_4gf_dds_FPN_100ep_LSJ.py -> build\\lib.win-amd64-3.8\\detectron2\\model_zoo\\configs\\new_baselines\n",
      "      copying detectron2\\model_zoo\\configs\\new_baselines\\mask_rcnn_regnetx_4gf_dds_FPN_200ep_LSJ.py -> build\\lib.win-amd64-3.8\\detectron2\\model_zoo\\configs\\new_baselines\n",
      "      copying detectron2\\model_zoo\\configs\\new_baselines\\mask_rcnn_regnetx_4gf_dds_FPN_400ep_LSJ.py -> build\\lib.win-amd64-3.8\\detectron2\\model_zoo\\configs\\new_baselines\n",
      "      copying detectron2\\model_zoo\\configs\\new_baselines\\mask_rcnn_regnety_4gf_dds_FPN_100ep_LSJ.py -> build\\lib.win-amd64-3.8\\detectron2\\model_zoo\\configs\\new_baselines\n",
      "      copying detectron2\\model_zoo\\configs\\new_baselines\\mask_rcnn_regnety_4gf_dds_FPN_200ep_LSJ.py -> build\\lib.win-amd64-3.8\\detectron2\\model_zoo\\configs\\new_baselines\n",
      "      copying detectron2\\model_zoo\\configs\\new_baselines\\mask_rcnn_regnety_4gf_dds_FPN_400ep_LSJ.py -> build\\lib.win-amd64-3.8\\detectron2\\model_zoo\\configs\\new_baselines\n",
      "      copying detectron2\\model_zoo\\configs\\new_baselines\\mask_rcnn_R_101_FPN_100ep_LSJ.py -> build\\lib.win-amd64-3.8\\detectron2\\model_zoo\\configs\\new_baselines\n",
      "      copying detectron2\\model_zoo\\configs\\new_baselines\\mask_rcnn_R_101_FPN_200ep_LSJ.py -> build\\lib.win-amd64-3.8\\detectron2\\model_zoo\\configs\\new_baselines\n",
      "      copying detectron2\\model_zoo\\configs\\new_baselines\\mask_rcnn_R_101_FPN_400ep_LSJ.py -> build\\lib.win-amd64-3.8\\detectron2\\model_zoo\\configs\\new_baselines\n",
      "      copying detectron2\\model_zoo\\configs\\new_baselines\\mask_rcnn_R_50_FPN_100ep_LSJ.py -> build\\lib.win-amd64-3.8\\detectron2\\model_zoo\\configs\\new_baselines\n",
      "      copying detectron2\\model_zoo\\configs\\new_baselines\\mask_rcnn_R_50_FPN_200ep_LSJ.py -> build\\lib.win-amd64-3.8\\detectron2\\model_zoo\\configs\\new_baselines\n",
      "      copying detectron2\\model_zoo\\configs\\new_baselines\\mask_rcnn_R_50_FPN_400ep_LSJ.py -> build\\lib.win-amd64-3.8\\detectron2\\model_zoo\\configs\\new_baselines\n",
      "      copying detectron2\\model_zoo\\configs\\new_baselines\\mask_rcnn_R_50_FPN_50ep_LSJ.py -> build\\lib.win-amd64-3.8\\detectron2\\model_zoo\\configs\\new_baselines\n",
      "      running build_ext\n",
      "      c:\\Users\\LG\\anaconda3\\lib\\site-packages\\torch\\utils\\cpp_extension.py:358: UserWarning: Error checking compiler version for cl: [WinError 2] 지정된 파일을 찾을 수 없습니다\n",
      "        warnings.warn(f'Error checking compiler version for {compiler}: {error}')\n",
      "      building 'detectron2._C' extension\n",
      "      error: Microsoft Visual C++ 14.0 is required. Get it with \"Build Tools for Visual Studio\": https://visualstudio.microsoft.com/downloads/\n",
      "      [end of output]\n",
      "  \n",
      "  note: This error originates from a subprocess, and is likely not a problem with pip.\n",
      "  ERROR: Failed building wheel for detectron2\n",
      "  error: subprocess-exited-with-error\n",
      "  \n",
      "  × Building wheel for pycocotools (pyproject.toml) did not run successfully.\n",
      "  │ exit code: 1\n",
      "  ╰─> [16 lines of output]\n",
      "      running bdist_wheel\n",
      "      running build\n",
      "      running build_py\n",
      "      creating build\n",
      "      creating build\\lib.win-amd64-cpython-38\n",
      "      creating build\\lib.win-amd64-cpython-38\\pycocotools\n",
      "      copying pycocotools\\coco.py -> build\\lib.win-amd64-cpython-38\\pycocotools\n",
      "      copying pycocotools\\cocoeval.py -> build\\lib.win-amd64-cpython-38\\pycocotools\n",
      "      copying pycocotools\\mask.py -> build\\lib.win-amd64-cpython-38\\pycocotools\n",
      "      copying pycocotools\\__init__.py -> build\\lib.win-amd64-cpython-38\\pycocotools\n",
      "      running build_ext\n",
      "      cythoning pycocotools/_mask.pyx to pycocotools\\_mask.c\n",
      "      C:\\Users\\LG\\AppData\\Local\\Temp\\pip-build-env-pxakqyte\\overlay\\Lib\\site-packages\\Cython\\Compiler\\Main.py:369: FutureWarning: Cython directive 'language_level' not set, using 2 for now (Py2). This will change in a later release! File: C:\\Users\\LG\\AppData\\Local\\Temp\\pip-install-y4hmctww\\pycocotools_ae51ecd7a76d47f1820e59c4f6f22716\\pycocotools\\_mask.pyx\n",
      "        tree = Parsing.p_module(s, pxd, full_module_name)\n",
      "      building 'pycocotools._mask' extension\n",
      "      error: Microsoft Visual C++ 14.0 or greater is required. Get it with \"Microsoft C++ Build Tools\": https://visualstudio.microsoft.com/visual-cpp-build-tools/\n",
      "      [end of output]\n",
      "  \n",
      "  note: This error originates from a subprocess, and is likely not a problem with pip.\n",
      "  ERROR: Failed building wheel for pycocotools\n",
      "ERROR: Could not build wheels for pycocotools, which is required to install pyproject.toml-based projects\n"
     ]
    }
   ],
   "source": [
    "!python -m pip install git+https://github.com/facebookresearch/detectron2.git\n",
    "# -> Error: pycocotools doesn't support windows"
   ]
  },
  {
   "cell_type": "code",
   "execution_count": 2,
   "metadata": {
    "colab": {
     "base_uri": "https://localhost:8080/",
     "height": 1000
    },
    "id": "b-zivn-ZcouV",
    "outputId": "790b455f-cb6d-4606-e69a-c66e6ce41d8f"
   },
   "outputs": [
    {
     "name": "stdout",
     "output_type": "stream",
     "text": [
      "Requirement already satisfied: pytorch_lightning in c:\\users\\lg\\anaconda3\\lib\\site-packages (1.2.9)\n",
      "Requirement already satisfied: future>=0.17.1 in c:\\users\\lg\\anaconda3\\lib\\site-packages (from pytorch_lightning) (0.18.2)\n",
      "Requirement already satisfied: torchmetrics==0.2.0 in c:\\users\\lg\\anaconda3\\lib\\site-packages (from pytorch_lightning) (0.2.0)\n",
      "Requirement already satisfied: PyYAML!=5.4.*,>=5.1 in c:\\users\\lg\\anaconda3\\lib\\site-packages (from pytorch_lightning) (5.3.1)\n",
      "Requirement already satisfied: torch>=1.4 in c:\\users\\lg\\anaconda3\\lib\\site-packages (from pytorch_lightning) (1.13.1)\n",
      "Requirement already satisfied: tqdm>=4.41.0 in c:\\users\\lg\\anaconda3\\lib\\site-packages (from pytorch_lightning) (4.47.0)\n",
      "Requirement already satisfied: numpy>=1.16.6 in c:\\users\\lg\\anaconda3\\lib\\site-packages (from pytorch_lightning) (1.18.5)\n",
      "Requirement already satisfied: fsspec[http]>=0.8.1 in c:\\users\\lg\\anaconda3\\lib\\site-packages (from pytorch_lightning) (2023.1.0)\n",
      "Requirement already satisfied: tensorboard!=2.5.0,>=2.2.0 in c:\\users\\lg\\anaconda3\\lib\\site-packages (from pytorch_lightning) (2.3.0)\n",
      "Requirement already satisfied: requests in c:\\users\\lg\\anaconda3\\lib\\site-packages (from fsspec[http]>=0.8.1->pytorch_lightning) (2.28.2)\n",
      "Requirement already satisfied: aiohttp!=4.0.0a0,!=4.0.0a1 in c:\\users\\lg\\anaconda3\\lib\\site-packages (from fsspec[http]>=0.8.1->pytorch_lightning) (3.8.4)\n",
      "Requirement already satisfied: google-auth<2,>=1.6.3 in c:\\users\\lg\\anaconda3\\lib\\site-packages (from tensorboard!=2.5.0,>=2.2.0->pytorch_lightning) (1.23.0)\n",
      "Requirement already satisfied: werkzeug>=0.11.15 in c:\\users\\lg\\anaconda3\\lib\\site-packages (from tensorboard!=2.5.0,>=2.2.0->pytorch_lightning) (1.0.1)\n",
      "Requirement already satisfied: six>=1.10.0 in c:\\users\\lg\\appdata\\roaming\\python\\python38\\site-packages (from tensorboard!=2.5.0,>=2.2.0->pytorch_lightning) (1.15.0)\n",
      "Requirement already satisfied: grpcio>=1.24.3 in c:\\users\\lg\\anaconda3\\lib\\site-packages (from tensorboard!=2.5.0,>=2.2.0->pytorch_lightning) (1.33.2)\n",
      "Requirement already satisfied: wheel>=0.26 in c:\\users\\lg\\anaconda3\\lib\\site-packages (from tensorboard!=2.5.0,>=2.2.0->pytorch_lightning) (0.34.2)\n",
      "Requirement already satisfied: absl-py>=0.4 in c:\\users\\lg\\anaconda3\\lib\\site-packages (from tensorboard!=2.5.0,>=2.2.0->pytorch_lightning) (0.11.0)\n",
      "Requirement already satisfied: markdown>=2.6.8 in c:\\users\\lg\\anaconda3\\lib\\site-packages (from tensorboard!=2.5.0,>=2.2.0->pytorch_lightning) (3.3.3)\n",
      "Requirement already satisfied: google-auth-oauthlib<0.5,>=0.4.1 in c:\\users\\lg\\anaconda3\\lib\\site-packages (from tensorboard!=2.5.0,>=2.2.0->pytorch_lightning) (0.4.2)\n",
      "Requirement already satisfied: tensorboard-plugin-wit>=1.6.0 in c:\\users\\lg\\anaconda3\\lib\\site-packages (from tensorboard!=2.5.0,>=2.2.0->pytorch_lightning) (1.7.0)\n",
      "Requirement already satisfied: setuptools>=41.0.0 in c:\\users\\lg\\anaconda3\\lib\\site-packages (from tensorboard!=2.5.0,>=2.2.0->pytorch_lightning) (49.2.0.post20200714)\n",
      "Requirement already satisfied: protobuf>=3.6.0 in c:\\users\\lg\\anaconda3\\lib\\site-packages (from tensorboard!=2.5.0,>=2.2.0->pytorch_lightning) (3.13.0)\n",
      "Requirement already satisfied: typing-extensions in c:\\users\\lg\\anaconda3\\lib\\site-packages (from torch>=1.4->pytorch_lightning) (4.5.0)\n",
      "Requirement already satisfied: multidict<7.0,>=4.5 in c:\\users\\lg\\anaconda3\\lib\\site-packages (from aiohttp!=4.0.0a0,!=4.0.0a1->fsspec[http]>=0.8.1->pytorch_lightning) (6.0.4)\n",
      "Requirement already satisfied: frozenlist>=1.1.1 in c:\\users\\lg\\anaconda3\\lib\\site-packages (from aiohttp!=4.0.0a0,!=4.0.0a1->fsspec[http]>=0.8.1->pytorch_lightning) (1.3.3)\n",
      "Requirement already satisfied: yarl<2.0,>=1.0 in c:\\users\\lg\\anaconda3\\lib\\site-packages (from aiohttp!=4.0.0a0,!=4.0.0a1->fsspec[http]>=0.8.1->pytorch_lightning) (1.8.2)\n",
      "Requirement already satisfied: aiosignal>=1.1.2 in c:\\users\\lg\\anaconda3\\lib\\site-packages (from aiohttp!=4.0.0a0,!=4.0.0a1->fsspec[http]>=0.8.1->pytorch_lightning) (1.3.1)\n",
      "Requirement already satisfied: attrs>=17.3.0 in c:\\users\\lg\\anaconda3\\lib\\site-packages (from aiohttp!=4.0.0a0,!=4.0.0a1->fsspec[http]>=0.8.1->pytorch_lightning) (19.3.0)\n",
      "Requirement already satisfied: async-timeout<5.0,>=4.0.0a3 in c:\\users\\lg\\anaconda3\\lib\\site-packages (from aiohttp!=4.0.0a0,!=4.0.0a1->fsspec[http]>=0.8.1->pytorch_lightning) (4.0.2)\n",
      "Requirement already satisfied: charset-normalizer<4.0,>=2.0 in c:\\users\\lg\\anaconda3\\lib\\site-packages (from aiohttp!=4.0.0a0,!=4.0.0a1->fsspec[http]>=0.8.1->pytorch_lightning) (3.0.1)\n",
      "Requirement already satisfied: cachetools<5.0,>=2.0.0 in c:\\users\\lg\\anaconda3\\lib\\site-packages (from google-auth<2,>=1.6.3->tensorboard!=2.5.0,>=2.2.0->pytorch_lightning) (4.1.1)\n",
      "Requirement already satisfied: pyasn1-modules>=0.2.1 in c:\\users\\lg\\anaconda3\\lib\\site-packages (from google-auth<2,>=1.6.3->tensorboard!=2.5.0,>=2.2.0->pytorch_lightning) (0.2.8)\n",
      "Requirement already satisfied: rsa<5,>=3.1.4 in c:\\users\\lg\\anaconda3\\lib\\site-packages (from google-auth<2,>=1.6.3->tensorboard!=2.5.0,>=2.2.0->pytorch_lightning) (4.6)\n",
      "Requirement already satisfied: requests-oauthlib>=0.7.0 in c:\\users\\lg\\anaconda3\\lib\\site-packages (from google-auth-oauthlib<0.5,>=0.4.1->tensorboard!=2.5.0,>=2.2.0->pytorch_lightning) (1.3.0)\n",
      "Requirement already satisfied: urllib3<1.27,>=1.21.1 in c:\\users\\lg\\anaconda3\\lib\\site-packages (from requests->fsspec[http]>=0.8.1->pytorch_lightning) (1.22)\n",
      "Requirement already satisfied: idna<4,>=2.5 in c:\\users\\lg\\anaconda3\\lib\\site-packages (from requests->fsspec[http]>=0.8.1->pytorch_lightning) (2.6)\n",
      "Requirement already satisfied: certifi>=2017.4.17 in c:\\users\\lg\\anaconda3\\lib\\site-packages (from requests->fsspec[http]>=0.8.1->pytorch_lightning) (2020.6.20)\n",
      "Requirement already satisfied: pyasn1<0.5.0,>=0.4.6 in c:\\users\\lg\\anaconda3\\lib\\site-packages (from pyasn1-modules>=0.2.1->google-auth<2,>=1.6.3->tensorboard!=2.5.0,>=2.2.0->pytorch_lightning) (0.4.8)\n",
      "Requirement already satisfied: oauthlib>=3.0.0 in c:\\users\\lg\\anaconda3\\lib\\site-packages (from requests-oauthlib>=0.7.0->google-auth-oauthlib<0.5,>=0.4.1->tensorboard!=2.5.0,>=2.2.0->pytorch_lightning) (3.1.0)\n",
      "Requirement already satisfied: kornia in c:\\users\\lg\\anaconda3\\lib\\site-packages (0.5.0)\n",
      "Collecting hydra\n",
      "  Using cached Hydra-2.5.tar.gz (82 kB)\n",
      "  Preparing metadata (setup.py): started\n",
      "  Preparing metadata (setup.py): finished with status 'done'\n",
      "Building wheels for collected packages: hydra\n",
      "  Building wheel for hydra (setup.py): started\n",
      "  Building wheel for hydra (setup.py): finished with status 'error'\n",
      "  Running setup.py clean for hydra\n",
      "Failed to build hydra\n",
      "Installing collected packages: hydra\n",
      "  Running setup.py install for hydra: started\n",
      "  Running setup.py install for hydra: finished with status 'error'\n"
     ]
    },
    {
     "name": "stderr",
     "output_type": "stream",
     "text": [
      "  error: subprocess-exited-with-error\n",
      "  \n",
      "  × python setup.py bdist_wheel did not run successfully.\n",
      "  │ exit code: 1\n",
      "  ╰─> [9 lines of output]\n",
      "      running bdist_wheel\n",
      "      running build\n",
      "      running build_py\n",
      "      creating build\n",
      "      creating build\\lib.win-amd64-3.8\n",
      "      copying src\\hydra.py -> build\\lib.win-amd64-3.8\n",
      "      running build_ext\n",
      "      building '_hydra' extension\n",
      "      error: Microsoft Visual C++ 14.0 is required. Get it with \"Build Tools for Visual Studio\": https://visualstudio.microsoft.com/downloads/\n",
      "      [end of output]\n",
      "  \n",
      "  note: This error originates from a subprocess, and is likely not a problem with pip.\n",
      "  ERROR: Failed building wheel for hydra\n",
      "  error: subprocess-exited-with-error\n",
      "  \n",
      "  × Running setup.py install for hydra did not run successfully.\n",
      "  │ exit code: 1\n",
      "  ╰─> [9 lines of output]\n",
      "      running install\n",
      "      running build\n",
      "      running build_py\n",
      "      creating build\n",
      "      creating build\\lib.win-amd64-3.8\n",
      "      copying src\\hydra.py -> build\\lib.win-amd64-3.8\n",
      "      running build_ext\n",
      "      building '_hydra' extension\n",
      "      error: Microsoft Visual C++ 14.0 is required. Get it with \"Build Tools for Visual Studio\": https://visualstudio.microsoft.com/downloads/\n",
      "      [end of output]\n",
      "  \n",
      "  note: This error originates from a subprocess, and is likely not a problem with pip.\n",
      "error: legacy-install-failure\n",
      "\n",
      "× Encountered error while trying to install package.\n",
      "╰─> hydra\n",
      "\n",
      "note: This is an issue with the package mentioned above, not pip.\n",
      "hint: See above for output from the failure.\n"
     ]
    },
    {
     "name": "stdout",
     "output_type": "stream",
     "text": [
      "Requirement already satisfied: omegaconf in c:\\users\\lg\\anaconda3\\lib\\site-packages (2.3.0)\n",
      "Requirement already satisfied: antlr4-python3-runtime==4.9.* in c:\\users\\lg\\anaconda3\\lib\\site-packages (from omegaconf) (4.9.3)\n",
      "Requirement already satisfied: PyYAML>=5.1.0 in c:\\users\\lg\\anaconda3\\lib\\site-packages (from omegaconf) (5.3.1)\n",
      "Requirement already satisfied: webdataset in c:\\users\\lg\\anaconda3\\lib\\site-packages (0.2.33)\n",
      "Requirement already satisfied: braceexpand in c:\\users\\lg\\anaconda3\\lib\\site-packages (from webdataset) (0.1.7)\n",
      "Requirement already satisfied: pyyaml in c:\\users\\lg\\anaconda3\\lib\\site-packages (from webdataset) (5.3.1)\n",
      "Requirement already satisfied: numpy in c:\\users\\lg\\anaconda3\\lib\\site-packages (from webdataset) (1.18.5)\n",
      "Requirement already satisfied: hydra-core in c:\\users\\lg\\anaconda3\\lib\\site-packages (1.3.2)\n",
      "Requirement already satisfied: packaging in c:\\users\\lg\\anaconda3\\lib\\site-packages (from hydra-core) (20.4)\n",
      "Requirement already satisfied: omegaconf<2.4,>=2.2 in c:\\users\\lg\\anaconda3\\lib\\site-packages (from hydra-core) (2.3.0)\n",
      "Requirement already satisfied: antlr4-python3-runtime==4.9.* in c:\\users\\lg\\anaconda3\\lib\\site-packages (from hydra-core) (4.9.3)\n",
      "Requirement already satisfied: importlib-resources in c:\\users\\lg\\anaconda3\\lib\\site-packages (from hydra-core) (5.12.0)\n",
      "Requirement already satisfied: PyYAML>=5.1.0 in c:\\users\\lg\\anaconda3\\lib\\site-packages (from omegaconf<2.4,>=2.2->hydra-core) (5.3.1)\n",
      "Requirement already satisfied: zipp>=3.1.0 in c:\\users\\lg\\anaconda3\\lib\\site-packages (from importlib-resources->hydra-core) (3.1.0)\n",
      "Requirement already satisfied: pyparsing>=2.0.2 in c:\\users\\lg\\anaconda3\\lib\\site-packages (from packaging->hydra-core) (2.4.7)\n",
      "Requirement already satisfied: six in c:\\users\\lg\\appdata\\roaming\\python\\python38\\site-packages (from packaging->hydra-core) (1.15.0)\n"
     ]
    }
   ],
   "source": [
    "!pip install pytorch_lightning \n",
    "!pip install kornia --no-dependencies\n",
    "!pip install hydra\n",
    "!pip install omegaconf\n",
    "!pip install webdataset\n",
    "!pip install hydra-core --upgrade"
   ]
  },
  {
   "cell_type": "markdown",
   "metadata": {
    "id": "_EGQMuhyx_Uh"
   },
   "source": [
    "### Run"
   ]
  },
  {
   "attachments": {},
   "cell_type": "markdown",
   "metadata": {},
   "source": [
    "Move Folders for RUN  \n",
    "saicinpainting > bin  \n",
    "models > bin"
   ]
  },
  {
   "cell_type": "code",
   "execution_count": 13,
   "metadata": {
    "colab": {
     "base_uri": "https://localhost:8080/"
    },
    "id": "L25jRxbCd0BR",
    "outputId": "00afaca7-0e67-4176-f1c4-649a5e02b2f3"
   },
   "outputs": [
    {
     "name": "stdout",
     "output_type": "stream",
     "text": [
      "Detectron v2 is not installed\n"
     ]
    },
    {
     "name": "stderr",
     "output_type": "stream",
     "text": [
      "bin/predict.py:38: UserWarning: \n",
      "The version_base parameter is not specified.\n",
      "Please specify a compatability version level, or None.\n",
      "Will assume defaults for version 1.1\n",
      "  @hydra.main(config_path='../configs/prediction', config_name='default.yaml')\n",
      "mismatched input '(' expecting <EOF>\n",
      "See https://hydra.cc/docs/1.2/advanced/override_grammar/basic for details\n",
      "\n",
      "\n",
      "Set the environment variable HYDRA_FULL_ERROR=1 for a complete stack trace.\n"
     ]
    }
   ],
   "source": [
    "!python bin/predict.py model.path=$(pwd)/big-lama indir=$(pwd)/data_for_prediction outdir=$(pwd)/output"
   ]
  },
  {
   "cell_type": "markdown",
   "metadata": {
    "id": "Cwzjw_zUyOC2"
   },
   "source": [
    "# Extra"
   ]
  },
  {
   "cell_type": "code",
   "execution_count": null,
   "metadata": {
    "colab": {
     "base_uri": "https://localhost:8080/"
    },
    "id": "AlEbfyHkCA2j",
    "outputId": "c448d60f-1a96-46fb-e3d6-53b05cdf894f"
   },
   "outputs": [
    {
     "name": "stdout",
     "output_type": "stream",
     "text": [
      "(640, 960, 3)\n",
      "(448, 640, 3)\n",
      "(640, 960, 3)\n"
     ]
    },
    {
     "data": {
      "text/plain": [
       "True"
      ]
     },
     "execution_count": 30,
     "metadata": {},
     "output_type": "execute_result"
    }
   ],
   "source": [
    "# image size와 같도록 mask resize\n",
    "import cv2\n",
    "path = '/content/drive/MyDrive/2022_2proj/lama/data_for_prediction/'\n",
    "\n",
    "i = cv2.imread(path+'room_2.png')\n",
    "image_shape = i.shape\n",
    "print(image_shape)\n",
    "m = cv2.imread(path+'room_2_mask.png')\n",
    "print(m.shape)\n",
    "resize_m = cv2.resize(m, (image_shape[1],image_shape[0]))\n",
    "print(resize_m.shape)\n",
    "cv2.imwrite(path+'room_2_mask.png',resize_m)"
   ]
  },
  {
   "cell_type": "code",
   "execution_count": null,
   "metadata": {
    "id": "qoNx66hICAzJ"
   },
   "outputs": [],
   "source": [
    "# Dilation\n",
    "import numpy as np\n",
    "import cv2\n",
    "import os\n",
    "from glob import glob\n",
    "mask_lst = glob('/content/drive/MyDrive/2022_2proj/lama/data_for_prediction/*_mask.png')\n",
    "\n",
    "for i in mask_lst:\n",
    "  img1 = cv2.imread(i, cv2.IMREAD_GRAYSCALE)\n",
    "  k = cv2.getStructuringElement(cv2.MORPH_RECT, (11,11))\n",
    "  dst = cv2.dilate(img1, k)\n",
    "\n",
    "  cv2.imwrite(i[:-4]+\"_Dilation.png\", dst)"
   ]
  }
 ],
 "metadata": {
  "accelerator": "GPU",
  "colab": {
   "collapsed_sections": [
    "QCbyTCM-TKFD"
   ],
   "include_colab_link": true,
   "name": "Inpainting.ipynb",
   "provenance": [],
   "toc_visible": true
  },
  "gpuClass": "standard",
  "kernelspec": {
   "display_name": "Python 3",
   "language": "python",
   "name": "python3"
  },
  "language_info": {
   "codemirror_mode": {
    "name": "ipython",
    "version": 3
   },
   "file_extension": ".py",
   "mimetype": "text/x-python",
   "name": "python",
   "nbconvert_exporter": "python",
   "pygments_lexer": "ipython3",
   "version": "3.8.3"
  },
  "vscode": {
   "interpreter": {
    "hash": "dbc2d860e59ffcf4c7e3321cdf91ed515b575f2741e55bcb74f1a255f2f51726"
   }
  }
 },
 "nbformat": 4,
 "nbformat_minor": 1
}
