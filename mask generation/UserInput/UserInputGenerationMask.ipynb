{
 "cells": [
  {
   "cell_type": "code",
   "execution_count": 2,
   "metadata": {},
   "outputs": [],
   "source": [
    "import sys\n",
    "import numpy as np\n",
    "import cv2\n",
    "import matplotlib.pyplot as plt"
   ]
  },
  {
   "cell_type": "code",
   "execution_count": 13,
   "metadata": {},
   "outputs": [
    {
     "name": "stdout",
     "output_type": "stream",
     "text": [
      "EVENT_LBUTTONDOWN: 506, 927\n",
      "EVENT_LBUTTONUP: 471, 973\n",
      "EVENT_LBUTTONDOWN: 578, 886\n",
      "EVENT_LBUTTONUP: 573, 877\n",
      "EVENT_LBUTTONDOWN: 667, 939\n",
      "EVENT_LBUTTONUP: 678, 1005\n",
      "EVENT_LBUTTONDOWN: 112, 906\n",
      "EVENT_LBUTTONUP: 43, 891\n"
     ]
    }
   ],
   "source": [
    "# https://deep-learning-study.tistory.com/110\n",
    "oldx = oldy = -1 # 좌표 기본값 설정\n",
    "\n",
    "def on_mouse(event, x, y, flags, param):\n",
    "    # event는 마우스 동작 상수값, 클릭, 이동 등등\n",
    "    # x, y는 내가 띄운 창을 기준으로 좌측 상단점이 0,0이 됌\n",
    "    # flags는 마우스 이벤트가 발생할 때 키보드 또는 마우스 상태를 의미, Shif+마우스 등 설정가능\n",
    "    # param은 영상이룻도 있도 전달하고 싶은 데이타, 안쓰더라도 넣어줘야함\n",
    "    \n",
    "\n",
    "    global oldx, oldy # 밖에 있는 oldx, oldy 불러옴\n",
    "\n",
    "    if event == cv2.EVENT_LBUTTONDOWN: # 왼쪽이 눌러지면 실행\n",
    "        oldx, oldy = x, y # 마우스가 눌렀을 때 좌표 저장, 띄워진 영상에서의 좌측 상단 기준\n",
    "        print('EVENT_LBUTTONDOWN: %d, %d' % (x, y)) # 좌표 출력\n",
    "\n",
    "    elif event == cv2.EVENT_LBUTTONUP: # 마우스 뗏을때 발생\n",
    "        print('EVENT_LBUTTONUP: %d, %d' % (x, y)) # 좌표 출력\n",
    "\n",
    "    elif event == cv2.EVENT_MOUSEMOVE: # 마우스가 움직일 때 발생\n",
    "        if flags & cv2.EVENT_FLAG_LBUTTON: # ==를 쓰면 다른 키도 입력되었을 때 작동안하므로 &(and) 사용\n",
    "            # cv2.circle(img, (x, y), 5, (0, 255, 0), -1) # 단점이 빠르게 움직이면 끊김\n",
    "            # circle은 끊기므로 line 이용\n",
    "            # 마우스 클릭한 좌표에서 시작해서 마우스 좌표까지 그림\n",
    "            cv2.line(img, (oldx, oldy), (x, y), (0, 0, 255), 40, cv2.LINE_AA)\n",
    "            cv2.imshow('image', img)\n",
    "            oldx, oldy = x, y # 그림을 그리고 또 좌표 저장\n",
    "\n",
    "# 흰색 컬러 영상 생성\n",
    "# img = np.ones((480, 640, 3), dtype=np.uint8) * 255\n",
    "img = cv2.imread('./img02.png')\n",
    "\n",
    "\n",
    "# 윈도우 창\n",
    "cv2.namedWindow('image', flags=cv2.WINDOW_NORMAL)\n",
    "\n",
    "# 마우스 입력, namedWIndow or imshow가 실행되어 창이 떠있는 상태에서만 사용가능\n",
    "# 마우스 이벤트가 발생하면 on_mouse 함수 실행\n",
    "cv2.setMouseCallback('image', on_mouse, img)\n",
    "\n",
    "\n",
    "# 영상 출력\n",
    "cv2.imshow('image', img)\n",
    "cv2.waitKey()\n",
    "\n",
    "cv2.destroyAllWindows()"
   ]
  },
  {
   "cell_type": "code",
   "execution_count": 4,
   "metadata": {},
   "outputs": [],
   "source": [
    "def make_mask(img):\n",
    "    img = np.array(img)\n",
    "    mask = np.zeros((img.shape))\n",
    "    if np.where(img == [0,0,255]): #BGR\n",
    "        mask[np.where((img == [0,0,255]).all(axis=2))] = [1,1,1]\n",
    "    return mask"
   ]
  },
  {
   "cell_type": "code",
   "execution_count": 14,
   "metadata": {},
   "outputs": [
    {
     "data": {
      "text/plain": [
       "<matplotlib.image.AxesImage at 0x25560fedeb0>"
      ]
     },
     "execution_count": 14,
     "metadata": {},
     "output_type": "execute_result"
    },
    {
     "data": {
      "image/png": "[encoded data removed]",
      "text/plain": [
       "<Figure size 432x288 with 1 Axes>"
      ]
     },
     "metadata": {
      "needs_background": "light"
     },
     "output_type": "display_data"
    }
   ],
   "source": [
    "mask = make_mask(img)\n",
    "plt.imshow(mask)"
   ]
  },
  {
   "cell_type": "code",
   "execution_count": 15,
   "metadata": {},
   "outputs": [
    {
     "data": {
      "text/plain": [
       "True"
      ]
     },
     "execution_count": 15,
     "metadata": {},
     "output_type": "execute_result"
    }
   ],
   "source": [
    "# cv2.imwrite('./img_select.png', img)\n",
    "cv2.imwrite('./img02_mask.png', mask*255)"
   ]
  }
 ],
 "metadata": {
  "kernelspec": {
   "display_name": "Python 3",
   "language": "python",
   "name": "python3"
  },
  "language_info": {
   "codemirror_mode": {
    "name": "ipython",
    "version": 3
   },
   "file_extension": ".py",
   "mimetype": "text/x-python",
   "name": "python",
   "nbconvert_exporter": "python",
   "pygments_lexer": "ipython3",
   "version": "3.8.3"
  },
  "orig_nbformat": 4,
  "vscode": {
   "interpreter": {
    "hash": "dbc2d860e59ffcf4c7e3321cdf91ed515b575f2741e55bcb74f1a255f2f51726"
   }
  }
 },
 "nbformat": 4,
 "nbformat_minor": 2
}
