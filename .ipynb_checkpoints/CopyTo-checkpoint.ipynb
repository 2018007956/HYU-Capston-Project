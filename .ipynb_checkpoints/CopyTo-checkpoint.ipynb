{
 "cells": [
  {
   "cell_type": "code",
   "execution_count": null,
   "id": "55887b6b",
   "metadata": {},
   "outputs": [],
   "source": [
    "# https://yeko90.tistory.com/entry/opencv-%EB%91%90-%EC%9D%B4%EB%AF%B8%EC%A7%80-%ED%95%A9%EC%B9%98%EB%8A%94-%EB%B0%A9%EB%B2%95-%ED%81%AC%EA%B8%B0-%EB%8B%A4%EB%A5%B8-%EC%9D%B4%EB%AF%B8%EC%A7%80\n",
    "import cv2\n",
    "import matplotlib.pyplot as plt\n",
    "import pyautogui\n",
    "\n",
    "person = cv2.imread('person_.png', cv2.IMREAD_COLOR)\n",
    "mask = cv2.imread('mask_.png', cv2.IMREAD_GRAYSCALE)\n",
    "dst = cv2.imread('back.png',cv2.IMREAD_COLOR)\n",
    "\n",
    "h, w = person.shape[:2]\n",
    "# person = cv2.resize(person, (int(w*0.5), int(h*0.5)),interpolation=cv2.INTER_AREA)\n",
    "mask = cv2.resize(mask, (person.shape[1],person.shape[0]),interpolation=cv2.INTER_AREA)\n",
    "\n",
    "print(pyautogui.position())\n",
    "crop = dst[150:h+150, 30:w+30]\n",
    "\n",
    "print(person.shape, mask.shape, dst.shape)\n",
    "\n",
    "cv2.copyTo(person, mask, crop)\n",
    "\n",
    "plt.imshow(cv2.cvtColor(dst, cv2.COLOR_BGR2RGB))\n",
    "plt.axis('off')\n",
    "plt.show()"
   ]
  },
  {
   "cell_type": "code",
   "execution_count": null,
   "id": "4cdef6c6",
   "metadata": {},
   "outputs": [],
   "source": []
  }
 ],
 "metadata": {
  "kernelspec": {
   "display_name": "Python 3 (ipykernel)",
   "language": "python",
   "name": "python3"
  },
  "language_info": {
   "codemirror_mode": {
    "name": "ipython",
    "version": 3
   },
   "file_extension": ".py",
   "mimetype": "text/x-python",
   "name": "python",
   "nbconvert_exporter": "python",
   "pygments_lexer": "ipython3",
   "version": "3.8.10"
  }
 },
 "nbformat": 4,
 "nbformat_minor": 5
}
