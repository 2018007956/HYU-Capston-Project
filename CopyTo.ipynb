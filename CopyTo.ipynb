{
 "cells": [
  {
   "cell_type": "code",
   "execution_count": null,
   "id": "55887b6b",
   "metadata": {},
   "outputs": [],
   "source": [
    "import cv2\n",
    "\n",
    "person = cv2.imread('person.png', cv2.IMREAD_COLOR)\n",
    "mask = cv2.imread('mask.png', cv2.IMREAD_GRAYSCALE)\n",
    "dst = cv2.imread('back.png',cv2.IMREAD_COLOR)\n",
    "\n",
    "h, w = person.shape[:2]\n",
    "crop = dst[30:h+30, 150:w+150]\n",
    "\n",
    "cv2.copyTo(person, mask, crop)\n",
    "\n",
    "cv2.imshow('dst',dst)\n",
    "\n",
    "cv2.waitKey()"
   ]
  },
  {
   "cell_type": "code",
   "execution_count": null,
   "id": "4bd920dd",
   "metadata": {},
   "outputs": [],
   "source": []
  }
 ],
 "metadata": {
  "kernelspec": {
   "display_name": "Python 3 (ipykernel)",
   "language": "python",
   "name": "python3"
  },
  "language_info": {
   "codemirror_mode": {
    "name": "ipython",
    "version": 3
   },
   "file_extension": ".py",
   "mimetype": "text/x-python",
   "name": "python",
   "nbconvert_exporter": "python",
   "pygments_lexer": "ipython3",
   "version": "3.8.10"
  }
 },
 "nbformat": 4,
 "nbformat_minor": 5
}
