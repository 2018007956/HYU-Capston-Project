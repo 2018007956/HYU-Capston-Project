{
 "cells": [
  {
   "cell_type": "code",
   "execution_count": 1,
   "id": "55887b6b",
   "metadata": {},
   "outputs": [],
   "source": [
    "# https://yeko90.tistory.com/entry/opencv-%EB%91%90-%EC%9D%B4%EB%AF%B8%EC%A7%80-%ED%95%A9%EC%B9%98%EB%8A%94-%EB%B0%A9%EB%B2%95-%ED%81%AC%EA%B8%B0-%EB%8B%A4%EB%A5%B8-%EC%9D%B4%EB%AF%B8%EC%A7%80\n",
    "import cv2\n",
    "import matplotlib.pyplot as plt\n",
    "\n",
    "person = cv2.imread('person_.png', cv2.IMREAD_COLOR)\n",
    "mask = cv2.imread('mask_.png', cv2.IMREAD_GRAYSCALE)\n",
    "dst = cv2.imread('back.png',cv2.IMREAD_COLOR)\n",
    "\n",
    "h, w = person.shape[:2]\n",
    "# person = cv2.resize(person, (int(w*0.5), int(h*0.5)),interpolation=cv2.INTER_AREA)\n",
    "mask = cv2.resize(mask, (person.shape[1],person.shape[0]),interpolation=cv2.INTER_AREA)"
   ]
  },
  {
   "cell_type": "code",
   "execution_count": 2,
   "id": "0179900c",
   "metadata": {},
   "outputs": [],
   "source": [
    "# https://deep-learning-study.tistory.com/110\n",
    "oldx = oldy = -1 # 좌표 기본값 설정\n",
    "\n",
    "def on_mouse(event, x, y, flags, param):\n",
    "    global oldx, oldy # 밖에 있는 oldx, oldy 불러옴\n",
    "\n",
    "    if event == cv2.EVENT_LBUTTONDOWN: # 왼쪽이 눌러지면 실행\n",
    "        oldx, oldy = x, y # 마우스가 눌렀을 때 좌표 저장, 띄워진 영상에서의 좌측 상단 기준\n",
    "        print('EVENT_LBUTTONDOWN: %d, %d' % (x, y)) # 좌표 출력"
   ]
  },
  {
   "cell_type": "code",
   "execution_count": 3,
   "id": "6983b170",
   "metadata": {},
   "outputs": [
    {
     "ename": "",
     "evalue": "",
     "output_type": "error",
     "traceback": [
      "\u001b[1;31mCanceled future for execute_request message before replies were done"
     ]
    },
    {
     "ename": "",
     "evalue": "",
     "output_type": "error",
     "traceback": [
      "\u001b[1;31m현재 셀 또는 이전 셀에서 코드를 실행하는 동안 Kernel이 충돌했습니다. 셀의 코드를 검토하여 오류의 가능한 원인을 식별하세요. 자세한 내용을 보려면 <a href='https://aka.ms/vscodeJupyterKernelCrash'> 여기 </a> 를 클릭하세요. 자세한 내용은 Jupyter <a href='command:jupyter.viewOutput'>로그</a>를 참조하세요."
     ]
    }
   ],
   "source": [
    "cv2.namedWindow('image')\n",
    "\n",
    "cv2.setMouseCallback('image', on_mouse, dst)\n",
    "print(oldx, oldy)"
   ]
  },
  {
   "cell_type": "code",
   "execution_count": null,
   "id": "dc85df11",
   "metadata": {},
   "outputs": [],
   "source": [
    "# crop = dst[0:h, 0:w]\n",
    "crop = dst[oldy:h+oldy, oldx:w+oldx]\n",
    "\n",
    "cv2.copyTo(person, mask, crop)\n",
    "\n",
    "plt.imshow(cv2.cvtColor(dst, cv2.COLOR_BGR2RGB))\n",
    "plt.axis('off')\n",
    "plt.show()"
   ]
  },
  {
   "cell_type": "code",
   "execution_count": null,
   "id": "b64dbcf4",
   "metadata": {},
   "outputs": [],
   "source": []
  }
 ],
 "metadata": {
  "kernelspec": {
   "display_name": "base",
   "language": "python",
   "name": "python3"
  },
  "language_info": {
   "codemirror_mode": {
    "name": "ipython",
    "version": 3
   },
   "file_extension": ".py",
   "mimetype": "text/x-python",
   "name": "python",
   "nbconvert_exporter": "python",
   "pygments_lexer": "ipython3",
   "version": "3.9.7"
  },
  "vscode": {
   "interpreter": {
    "hash": "81038f7a33163f9962c8a421bcd931df9a4bab7e71df34874ed9e3fa728441c9"
   }
  }
 },
 "nbformat": 4,
 "nbformat_minor": 5
}
